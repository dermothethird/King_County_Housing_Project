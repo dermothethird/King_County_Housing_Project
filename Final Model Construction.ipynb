{
 "cells": [
  {
   "cell_type": "markdown",
   "metadata": {},
   "source": [
    "# Final Model Construction"
   ]
  },
  {
   "cell_type": "markdown",
   "metadata": {},
   "source": [
    "Below is the construction for a multiple linear regression model predicting housing prices in King County. Data is imported from the preprocessed data that was cleaned in preceding notebooks and saved as separate csv files. The data is imported to this notebook and combined for the first model. Further iterations are contained in additional subsections of this notebook."
   ]
  },
  {
   "cell_type": "markdown",
   "metadata": {},
   "source": [
    "### Import Packages"
   ]
  },
  {
   "cell_type": "code",
   "execution_count": 1,
   "metadata": {},
   "outputs": [],
   "source": [
    "import scipy.stats as stats\n",
    "import pandas as pd\n",
    "import statsmodels.api as sm\n",
    "import numpy as np\n",
    "import matplotlib.pyplot as plt\n",
    "import seaborn as sns\n",
    "from sklearn.model_selection import cross_val_score, train_test_split\n",
    "from sklearn.metrics import median_absolute_error, mean_squared_error \n",
    "from sklearn.preprocessing import StandardScaler, PolynomialFeatures, RobustScaler\n",
    "from sklearn.linear_model import LinearRegression\n",
    "\n"
   ]
  },
  {
   "cell_type": "markdown",
   "metadata": {},
   "source": [
    "### Import and Combine Cleaned Data"
   ]
  },
  {
   "cell_type": "code",
   "execution_count": 2,
   "metadata": {},
   "outputs": [],
   "source": [
    "categorical_ohe = pd.read_csv(\"./data/cat_hot_dataframe\")\n",
    "categorical_ordinal = pd.read_csv(\"./data/cat_ordinal_dataframe\")\n",
    "numeric = pd.read_csv(\"./data/initial_numeric_inputs\")\n",
    "target = pd.read_csv(\"./data/house_price_target_natlog\")"
   ]
  },
  {
   "cell_type": "markdown",
   "metadata": {},
   "source": [
    "### Construct Model"
   ]
  },
  {
   "cell_type": "code",
   "execution_count": 3,
   "metadata": {},
   "outputs": [],
   "source": [
    "all_predictors = pd.concat([numeric, categorical_ohe], axis=1)"
   ]
  },
  {
   "cell_type": "code",
   "execution_count": 4,
   "metadata": {},
   "outputs": [],
   "source": [
    "#defining constructor function so it can be used for each iteration\n",
    "\n",
    "def construct_model(exog_df):\n",
    "    ''' This function takes a dataframe of feature variables, performs robust scaling, \n",
    "    and returns summary statistics. '''\n",
    "   \n",
    "    rscale = RobustScaler()\n",
    "    rs = rscale.fit_transform(exog_df)\n",
    "    rs_df = pd.DataFrame(rs, columns=exog_df.columns)\n",
    "    \n",
    "    exog = sm.add_constant(rs_df)\n",
    "    endog = target\n",
    "    \n",
    "    model = sm.OLS(endog, exog).fit().summary()\n",
    "    return model"
   ]
  },
  {
   "cell_type": "markdown",
   "metadata": {},
   "source": [
    "# 1st Iteration"
   ]
  },
  {
   "cell_type": "code",
   "execution_count": 5,
   "metadata": {
    "scrolled": false
   },
   "outputs": [
    {
     "data": {
      "text/plain": [
       "ln_price            1.000000\n",
       "ln_sqft_living      0.674802\n",
       "ln_sqft_living15    0.607154\n",
       "ln_sqft_above       0.586013\n",
       "bathrooms           0.551249\n",
       "bedrooms            0.343360\n",
       "floors              0.310630\n",
       "sqft_lot            0.100025\n",
       "sqft_lot15          0.092281\n",
       "renovated           0.044384\n",
       "age                -0.080583\n",
       "Name: ln_price, dtype: float64"
      ]
     },
     "execution_count": 5,
     "metadata": {},
     "output_type": "execute_result"
    }
   ],
   "source": [
    "#run 1st model\n",
    "\n",
    "#concatenate numeric and target to run a correlation\n",
    "run_corr = pd.concat([target, numeric], axis=1)\n",
    "run_corr.corr()['ln_price'].sort_values(ascending=False)"
   ]
  },
  {
   "cell_type": "markdown",
   "metadata": {},
   "source": [
    "Since ln_sqft_living is our highest correlated variable to ln_price, we will use it to run our first regression"
   ]
  },
  {
   "cell_type": "code",
   "execution_count": 6,
   "metadata": {
    "scrolled": false
   },
   "outputs": [
    {
     "data": {
      "text/html": [
       "<table class=\"simpletable\">\n",
       "<caption>OLS Regression Results</caption>\n",
       "<tr>\n",
       "  <th>Dep. Variable:</th>        <td>ln_price</td>     <th>  R-squared:         </th> <td>   0.455</td> \n",
       "</tr>\n",
       "<tr>\n",
       "  <th>Model:</th>                   <td>OLS</td>       <th>  Adj. R-squared:    </th> <td>   0.455</td> \n",
       "</tr>\n",
       "<tr>\n",
       "  <th>Method:</th>             <td>Least Squares</td>  <th>  F-statistic:       </th> <td>1.805e+04</td>\n",
       "</tr>\n",
       "<tr>\n",
       "  <th>Date:</th>             <td>Wed, 26 Oct 2022</td> <th>  Prob (F-statistic):</th>  <td>  0.00</td>  \n",
       "</tr>\n",
       "<tr>\n",
       "  <th>Time:</th>                 <td>16:33:17</td>     <th>  Log-Likelihood:    </th> <td> -10231.</td> \n",
       "</tr>\n",
       "<tr>\n",
       "  <th>No. Observations:</th>      <td> 21597</td>      <th>  AIC:               </th> <td>2.047e+04</td>\n",
       "</tr>\n",
       "<tr>\n",
       "  <th>Df Residuals:</th>          <td> 21595</td>      <th>  BIC:               </th> <td>2.048e+04</td>\n",
       "</tr>\n",
       "<tr>\n",
       "  <th>Df Model:</th>              <td>     1</td>      <th>                     </th>     <td> </td>    \n",
       "</tr>\n",
       "<tr>\n",
       "  <th>Covariance Type:</th>      <td>nonrobust</td>    <th>                     </th>     <td> </td>    \n",
       "</tr>\n",
       "</table>\n",
       "<table class=\"simpletable\">\n",
       "<tr>\n",
       "         <td></td>           <th>coef</th>     <th>std err</th>      <th>t</th>      <th>P>|t|</th>  <th>[0.025</th>    <th>0.975]</th>  \n",
       "</tr>\n",
       "<tr>\n",
       "  <th>const</th>          <td>   13.0517</td> <td>    0.003</td> <td> 4935.519</td> <td> 0.000</td> <td>   13.046</td> <td>   13.057</td>\n",
       "</tr>\n",
       "<tr>\n",
       "  <th>ln_sqft_living</th> <td>    0.4845</td> <td>    0.004</td> <td>  134.368</td> <td> 0.000</td> <td>    0.477</td> <td>    0.492</td>\n",
       "</tr>\n",
       "</table>\n",
       "<table class=\"simpletable\">\n",
       "<tr>\n",
       "  <th>Omnibus:</th>       <td>123.577</td> <th>  Durbin-Watson:     </th> <td>   1.977</td>\n",
       "</tr>\n",
       "<tr>\n",
       "  <th>Prob(Omnibus):</th> <td> 0.000</td>  <th>  Jarque-Bera (JB):  </th> <td> 114.096</td>\n",
       "</tr>\n",
       "<tr>\n",
       "  <th>Skew:</th>          <td> 0.143</td>  <th>  Prob(JB):          </th> <td>1.68e-25</td>\n",
       "</tr>\n",
       "<tr>\n",
       "  <th>Kurtosis:</th>      <td> 2.787</td>  <th>  Cond. No.          </th> <td>    1.36</td>\n",
       "</tr>\n",
       "</table><br/><br/>Notes:<br/>[1] Standard Errors assume that the covariance matrix of the errors is correctly specified."
      ],
      "text/plain": [
       "<class 'statsmodels.iolib.summary.Summary'>\n",
       "\"\"\"\n",
       "                            OLS Regression Results                            \n",
       "==============================================================================\n",
       "Dep. Variable:               ln_price   R-squared:                       0.455\n",
       "Model:                            OLS   Adj. R-squared:                  0.455\n",
       "Method:                 Least Squares   F-statistic:                 1.805e+04\n",
       "Date:                Wed, 26 Oct 2022   Prob (F-statistic):               0.00\n",
       "Time:                        16:33:17   Log-Likelihood:                -10231.\n",
       "No. Observations:               21597   AIC:                         2.047e+04\n",
       "Df Residuals:                   21595   BIC:                         2.048e+04\n",
       "Df Model:                           1                                         \n",
       "Covariance Type:            nonrobust                                         \n",
       "==================================================================================\n",
       "                     coef    std err          t      P>|t|      [0.025      0.975]\n",
       "----------------------------------------------------------------------------------\n",
       "const             13.0517      0.003   4935.519      0.000      13.046      13.057\n",
       "ln_sqft_living     0.4845      0.004    134.368      0.000       0.477       0.492\n",
       "==============================================================================\n",
       "Omnibus:                      123.577   Durbin-Watson:                   1.977\n",
       "Prob(Omnibus):                  0.000   Jarque-Bera (JB):              114.096\n",
       "Skew:                           0.143   Prob(JB):                     1.68e-25\n",
       "Kurtosis:                       2.787   Cond. No.                         1.36\n",
       "==============================================================================\n",
       "\n",
       "Notes:\n",
       "[1] Standard Errors assume that the covariance matrix of the errors is correctly specified.\n",
       "\"\"\""
      ]
     },
     "execution_count": 6,
     "metadata": {},
     "output_type": "execute_result"
    }
   ],
   "source": [
    "# run first model\n",
    "construct_model(pd.DataFrame(all_predictors['ln_sqft_living']))"
   ]
  },
  {
   "cell_type": "markdown",
   "metadata": {},
   "source": [
    "### Evaluate Model Performance"
   ]
  },
  {
   "cell_type": "markdown",
   "metadata": {},
   "source": [
    "The model accounts for roughly 45% of the target variable variance. ln_sqft_living is statistically signficant with a pvalue less than our alpha at .05. A one unit in iqr of log_sqft_living will increase our log_price by .4845."
   ]
  },
  {
   "cell_type": "markdown",
   "metadata": {},
   "source": [
    "### Assess Potential Model Improvements"
   ]
  },
  {
   "cell_type": "markdown",
   "metadata": {},
   "source": [
    "(1) Increase our rsquared with additional variables\n",
    "\n",
    "(2) Trim outliers as needed to imrove normality of inputs (JB Score)"
   ]
  },
  {
   "cell_type": "markdown",
   "metadata": {},
   "source": [
    "# 2nd Iteration"
   ]
  },
  {
   "cell_type": "code",
   "execution_count": 7,
   "metadata": {},
   "outputs": [],
   "source": [
    "# create a function that concatenates our next feature variable to our exog dataframe\n",
    "current_model = pd.DataFrame(all_predictors['ln_sqft_living'])\n",
    "\n",
    "def iterate(feature):\n",
    "    feature_df = pd.DataFrame(feature)\n",
    "    model = pd.concat([current_model, feature_df], axis=1)\n",
    "    return model"
   ]
  },
  {
   "cell_type": "code",
   "execution_count": 8,
   "metadata": {
    "scrolled": true
   },
   "outputs": [
    {
     "data": {
      "text/html": [
       "<table class=\"simpletable\">\n",
       "<caption>OLS Regression Results</caption>\n",
       "<tr>\n",
       "  <th>Dep. Variable:</th>        <td>ln_price</td>     <th>  R-squared:         </th> <td>   0.479</td> \n",
       "</tr>\n",
       "<tr>\n",
       "  <th>Model:</th>                   <td>OLS</td>       <th>  Adj. R-squared:    </th> <td>   0.479</td> \n",
       "</tr>\n",
       "<tr>\n",
       "  <th>Method:</th>             <td>Least Squares</td>  <th>  F-statistic:       </th> <td>   9944.</td> \n",
       "</tr>\n",
       "<tr>\n",
       "  <th>Date:</th>             <td>Wed, 26 Oct 2022</td> <th>  Prob (F-statistic):</th>  <td>  0.00</td>  \n",
       "</tr>\n",
       "<tr>\n",
       "  <th>Time:</th>                 <td>16:33:17</td>     <th>  Log-Likelihood:    </th> <td> -9742.3</td> \n",
       "</tr>\n",
       "<tr>\n",
       "  <th>No. Observations:</th>      <td> 21597</td>      <th>  AIC:               </th> <td>1.949e+04</td>\n",
       "</tr>\n",
       "<tr>\n",
       "  <th>Df Residuals:</th>          <td> 21594</td>      <th>  BIC:               </th> <td>1.951e+04</td>\n",
       "</tr>\n",
       "<tr>\n",
       "  <th>Df Model:</th>              <td>     2</td>      <th>                     </th>     <td> </td>    \n",
       "</tr>\n",
       "<tr>\n",
       "  <th>Covariance Type:</th>      <td>nonrobust</td>    <th>                     </th>     <td> </td>    \n",
       "</tr>\n",
       "</table>\n",
       "<table class=\"simpletable\">\n",
       "<tr>\n",
       "          <td></td>            <th>coef</th>     <th>std err</th>      <th>t</th>      <th>P>|t|</th>  <th>[0.025</th>    <th>0.975]</th>  \n",
       "</tr>\n",
       "<tr>\n",
       "  <th>const</th>            <td>   13.0425</td> <td>    0.003</td> <td> 5013.451</td> <td> 0.000</td> <td>   13.037</td> <td>   13.048</td>\n",
       "</tr>\n",
       "<tr>\n",
       "  <th>ln_sqft_living</th>   <td>    0.3594</td> <td>    0.005</td> <td>   67.795</td> <td> 0.000</td> <td>    0.349</td> <td>    0.370</td>\n",
       "</tr>\n",
       "<tr>\n",
       "  <th>ln_sqft_living15</th> <td>    0.1725</td> <td>    0.005</td> <td>   31.603</td> <td> 0.000</td> <td>    0.162</td> <td>    0.183</td>\n",
       "</tr>\n",
       "</table>\n",
       "<table class=\"simpletable\">\n",
       "<tr>\n",
       "  <th>Omnibus:</th>       <td>150.085</td> <th>  Durbin-Watson:     </th> <td>   1.976</td>\n",
       "</tr>\n",
       "<tr>\n",
       "  <th>Prob(Omnibus):</th> <td> 0.000</td>  <th>  Jarque-Bera (JB):  </th> <td> 126.925</td>\n",
       "</tr>\n",
       "<tr>\n",
       "  <th>Skew:</th>          <td> 0.128</td>  <th>  Prob(JB):          </th> <td>2.75e-28</td>\n",
       "</tr>\n",
       "<tr>\n",
       "  <th>Kurtosis:</th>      <td> 2.726</td>  <th>  Cond. No.          </th> <td>    2.77</td>\n",
       "</tr>\n",
       "</table><br/><br/>Notes:<br/>[1] Standard Errors assume that the covariance matrix of the errors is correctly specified."
      ],
      "text/plain": [
       "<class 'statsmodels.iolib.summary.Summary'>\n",
       "\"\"\"\n",
       "                            OLS Regression Results                            \n",
       "==============================================================================\n",
       "Dep. Variable:               ln_price   R-squared:                       0.479\n",
       "Model:                            OLS   Adj. R-squared:                  0.479\n",
       "Method:                 Least Squares   F-statistic:                     9944.\n",
       "Date:                Wed, 26 Oct 2022   Prob (F-statistic):               0.00\n",
       "Time:                        16:33:17   Log-Likelihood:                -9742.3\n",
       "No. Observations:               21597   AIC:                         1.949e+04\n",
       "Df Residuals:                   21594   BIC:                         1.951e+04\n",
       "Df Model:                           2                                         \n",
       "Covariance Type:            nonrobust                                         \n",
       "====================================================================================\n",
       "                       coef    std err          t      P>|t|      [0.025      0.975]\n",
       "------------------------------------------------------------------------------------\n",
       "const               13.0425      0.003   5013.451      0.000      13.037      13.048\n",
       "ln_sqft_living       0.3594      0.005     67.795      0.000       0.349       0.370\n",
       "ln_sqft_living15     0.1725      0.005     31.603      0.000       0.162       0.183\n",
       "==============================================================================\n",
       "Omnibus:                      150.085   Durbin-Watson:                   1.976\n",
       "Prob(Omnibus):                  0.000   Jarque-Bera (JB):              126.925\n",
       "Skew:                           0.128   Prob(JB):                     2.75e-28\n",
       "Kurtosis:                       2.726   Cond. No.                         2.77\n",
       "==============================================================================\n",
       "\n",
       "Notes:\n",
       "[1] Standard Errors assume that the covariance matrix of the errors is correctly specified.\n",
       "\"\"\""
      ]
     },
     "execution_count": 8,
     "metadata": {},
     "output_type": "execute_result"
    }
   ],
   "source": [
    "# run 2nd model adding ln_sqft_living15\n",
    "current_model = iterate(all_predictors['ln_sqft_living15'])\n",
    "construct_model(current_model)"
   ]
  },
  {
   "cell_type": "markdown",
   "metadata": {},
   "source": [
    "### Evaluate Model Performance"
   ]
  },
  {
   "cell_type": "markdown",
   "metadata": {},
   "source": [
    "The model accounts for roughly 45% of the target variable variance. ln_sqft_living is statistically signficant with a pvalue less than our alpha at .05. A one unit in iqr of log_sqft_living will increase our log_price by .4845."
   ]
  },
  {
   "cell_type": "markdown",
   "metadata": {},
   "source": [
    "### Assess Potential Model Improvements"
   ]
  },
  {
   "cell_type": "markdown",
   "metadata": {},
   "source": [
    "(1) Increase our rsquared with additional variables\n",
    "\n",
    "(2) Trim outliers as needed to imrove normality of inputs (JB Score)"
   ]
  },
  {
   "cell_type": "markdown",
   "metadata": {},
   "source": [
    "# 3rd Iteration"
   ]
  },
  {
   "cell_type": "code",
   "execution_count": 9,
   "metadata": {},
   "outputs": [
    {
     "data": {
      "text/html": [
       "<table class=\"simpletable\">\n",
       "<caption>OLS Regression Results</caption>\n",
       "<tr>\n",
       "  <th>Dep. Variable:</th>        <td>ln_price</td>     <th>  R-squared:         </th> <td>   0.480</td> \n",
       "</tr>\n",
       "<tr>\n",
       "  <th>Model:</th>                   <td>OLS</td>       <th>  Adj. R-squared:    </th> <td>   0.480</td> \n",
       "</tr>\n",
       "<tr>\n",
       "  <th>Method:</th>             <td>Least Squares</td>  <th>  F-statistic:       </th> <td>   6649.</td> \n",
       "</tr>\n",
       "<tr>\n",
       "  <th>Date:</th>             <td>Wed, 26 Oct 2022</td> <th>  Prob (F-statistic):</th>  <td>  0.00</td>  \n",
       "</tr>\n",
       "<tr>\n",
       "  <th>Time:</th>                 <td>16:33:17</td>     <th>  Log-Likelihood:    </th> <td> -9727.0</td> \n",
       "</tr>\n",
       "<tr>\n",
       "  <th>No. Observations:</th>      <td> 21597</td>      <th>  AIC:               </th> <td>1.946e+04</td>\n",
       "</tr>\n",
       "<tr>\n",
       "  <th>Df Residuals:</th>          <td> 21593</td>      <th>  BIC:               </th> <td>1.949e+04</td>\n",
       "</tr>\n",
       "<tr>\n",
       "  <th>Df Model:</th>              <td>     3</td>      <th>                     </th>     <td> </td>    \n",
       "</tr>\n",
       "<tr>\n",
       "  <th>Covariance Type:</th>      <td>nonrobust</td>    <th>                     </th>     <td> </td>    \n",
       "</tr>\n",
       "</table>\n",
       "<table class=\"simpletable\">\n",
       "<tr>\n",
       "          <td></td>            <th>coef</th>     <th>std err</th>      <th>t</th>      <th>P>|t|</th>  <th>[0.025</th>    <th>0.975]</th>  \n",
       "</tr>\n",
       "<tr>\n",
       "  <th>const</th>            <td>   13.0454</td> <td>    0.003</td> <td> 4923.924</td> <td> 0.000</td> <td>   13.040</td> <td>   13.051</td>\n",
       "</tr>\n",
       "<tr>\n",
       "  <th>ln_sqft_living</th>   <td>    0.3892</td> <td>    0.008</td> <td>   51.510</td> <td> 0.000</td> <td>    0.374</td> <td>    0.404</td>\n",
       "</tr>\n",
       "<tr>\n",
       "  <th>ln_sqft_living15</th> <td>    0.1787</td> <td>    0.006</td> <td>   32.091</td> <td> 0.000</td> <td>    0.168</td> <td>    0.190</td>\n",
       "</tr>\n",
       "<tr>\n",
       "  <th>ln_sqft_above</th>    <td>   -0.0421</td> <td>    0.008</td> <td>   -5.529</td> <td> 0.000</td> <td>   -0.057</td> <td>   -0.027</td>\n",
       "</tr>\n",
       "</table>\n",
       "<table class=\"simpletable\">\n",
       "<tr>\n",
       "  <th>Omnibus:</th>       <td>135.412</td> <th>  Durbin-Watson:     </th> <td>   1.976</td>\n",
       "</tr>\n",
       "<tr>\n",
       "  <th>Prob(Omnibus):</th> <td> 0.000</td>  <th>  Jarque-Bera (JB):  </th> <td> 118.075</td>\n",
       "</tr>\n",
       "<tr>\n",
       "  <th>Skew:</th>          <td> 0.130</td>  <th>  Prob(JB):          </th> <td>2.29e-26</td>\n",
       "</tr>\n",
       "<tr>\n",
       "  <th>Kurtosis:</th>      <td> 2.748</td>  <th>  Cond. No.          </th> <td>    4.42</td>\n",
       "</tr>\n",
       "</table><br/><br/>Notes:<br/>[1] Standard Errors assume that the covariance matrix of the errors is correctly specified."
      ],
      "text/plain": [
       "<class 'statsmodels.iolib.summary.Summary'>\n",
       "\"\"\"\n",
       "                            OLS Regression Results                            \n",
       "==============================================================================\n",
       "Dep. Variable:               ln_price   R-squared:                       0.480\n",
       "Model:                            OLS   Adj. R-squared:                  0.480\n",
       "Method:                 Least Squares   F-statistic:                     6649.\n",
       "Date:                Wed, 26 Oct 2022   Prob (F-statistic):               0.00\n",
       "Time:                        16:33:17   Log-Likelihood:                -9727.0\n",
       "No. Observations:               21597   AIC:                         1.946e+04\n",
       "Df Residuals:                   21593   BIC:                         1.949e+04\n",
       "Df Model:                           3                                         \n",
       "Covariance Type:            nonrobust                                         \n",
       "====================================================================================\n",
       "                       coef    std err          t      P>|t|      [0.025      0.975]\n",
       "------------------------------------------------------------------------------------\n",
       "const               13.0454      0.003   4923.924      0.000      13.040      13.051\n",
       "ln_sqft_living       0.3892      0.008     51.510      0.000       0.374       0.404\n",
       "ln_sqft_living15     0.1787      0.006     32.091      0.000       0.168       0.190\n",
       "ln_sqft_above       -0.0421      0.008     -5.529      0.000      -0.057      -0.027\n",
       "==============================================================================\n",
       "Omnibus:                      135.412   Durbin-Watson:                   1.976\n",
       "Prob(Omnibus):                  0.000   Jarque-Bera (JB):              118.075\n",
       "Skew:                           0.130   Prob(JB):                     2.29e-26\n",
       "Kurtosis:                       2.748   Cond. No.                         4.42\n",
       "==============================================================================\n",
       "\n",
       "Notes:\n",
       "[1] Standard Errors assume that the covariance matrix of the errors is correctly specified.\n",
       "\"\"\""
      ]
     },
     "execution_count": 9,
     "metadata": {},
     "output_type": "execute_result"
    }
   ],
   "source": [
    "# run 3rd model\n",
    "current_model = iterate(all_predictors['ln_sqft_above'])\n",
    "construct_model(current_model)"
   ]
  },
  {
   "cell_type": "markdown",
   "metadata": {},
   "source": [
    "### Evaluate Model Performance"
   ]
  },
  {
   "cell_type": "markdown",
   "metadata": {},
   "source": [
    "The model accounts for roughly 45% of the target variable variance. ln_sqft_living is statistically signficant with a pvalue less than our alpha at .05. A one unit in iqr of log_sqft_living will increase our log_price by .4845."
   ]
  },
  {
   "cell_type": "markdown",
   "metadata": {},
   "source": [
    "### Assess Potential Model Improvements"
   ]
  },
  {
   "cell_type": "markdown",
   "metadata": {},
   "source": [
    "(1) Increase our rsquared with additional variables\n",
    "\n",
    "(2) Trim outliers as needed to imrove normality of inputs (JB Score)"
   ]
  },
  {
   "cell_type": "markdown",
   "metadata": {},
   "source": [
    "# 4th Iteration"
   ]
  },
  {
   "cell_type": "code",
   "execution_count": 10,
   "metadata": {},
   "outputs": [
    {
     "data": {
      "text/html": [
       "<table class=\"simpletable\">\n",
       "<caption>OLS Regression Results</caption>\n",
       "<tr>\n",
       "  <th>Dep. Variable:</th>        <td>ln_price</td>     <th>  R-squared:         </th> <td>   0.484</td> \n",
       "</tr>\n",
       "<tr>\n",
       "  <th>Model:</th>                   <td>OLS</td>       <th>  Adj. R-squared:    </th> <td>   0.484</td> \n",
       "</tr>\n",
       "<tr>\n",
       "  <th>Method:</th>             <td>Least Squares</td>  <th>  F-statistic:       </th> <td>   5058.</td> \n",
       "</tr>\n",
       "<tr>\n",
       "  <th>Date:</th>             <td>Wed, 26 Oct 2022</td> <th>  Prob (F-statistic):</th>  <td>  0.00</td>  \n",
       "</tr>\n",
       "<tr>\n",
       "  <th>Time:</th>                 <td>16:33:17</td>     <th>  Log-Likelihood:    </th> <td> -9652.9</td> \n",
       "</tr>\n",
       "<tr>\n",
       "  <th>No. Observations:</th>      <td> 21597</td>      <th>  AIC:               </th> <td>1.932e+04</td>\n",
       "</tr>\n",
       "<tr>\n",
       "  <th>Df Residuals:</th>          <td> 21592</td>      <th>  BIC:               </th> <td>1.936e+04</td>\n",
       "</tr>\n",
       "<tr>\n",
       "  <th>Df Model:</th>              <td>     4</td>      <th>                     </th>     <td> </td>    \n",
       "</tr>\n",
       "<tr>\n",
       "  <th>Covariance Type:</th>      <td>nonrobust</td>    <th>                     </th>     <td> </td>    \n",
       "</tr>\n",
       "</table>\n",
       "<table class=\"simpletable\">\n",
       "<tr>\n",
       "          <td></td>            <th>coef</th>     <th>std err</th>      <th>t</th>      <th>P>|t|</th>  <th>[0.025</th>    <th>0.975]</th>  \n",
       "</tr>\n",
       "<tr>\n",
       "  <th>const</th>            <td>   13.0542</td> <td>    0.003</td> <td> 4765.913</td> <td> 0.000</td> <td>   13.049</td> <td>   13.060</td>\n",
       "</tr>\n",
       "<tr>\n",
       "  <th>ln_sqft_living</th>   <td>    0.3462</td> <td>    0.008</td> <td>   41.654</td> <td> 0.000</td> <td>    0.330</td> <td>    0.363</td>\n",
       "</tr>\n",
       "<tr>\n",
       "  <th>ln_sqft_living15</th> <td>    0.1799</td> <td>    0.006</td> <td>   32.403</td> <td> 0.000</td> <td>    0.169</td> <td>    0.191</td>\n",
       "</tr>\n",
       "<tr>\n",
       "  <th>ln_sqft_above</th>    <td>   -0.0527</td> <td>    0.008</td> <td>   -6.899</td> <td> 0.000</td> <td>   -0.068</td> <td>   -0.038</td>\n",
       "</tr>\n",
       "<tr>\n",
       "  <th>bathrooms</th>        <td>    0.0476</td> <td>    0.004</td> <td>   12.193</td> <td> 0.000</td> <td>    0.040</td> <td>    0.055</td>\n",
       "</tr>\n",
       "</table>\n",
       "<table class=\"simpletable\">\n",
       "<tr>\n",
       "  <th>Omnibus:</th>       <td>148.808</td> <th>  Durbin-Watson:     </th> <td>   1.975</td>\n",
       "</tr>\n",
       "<tr>\n",
       "  <th>Prob(Omnibus):</th> <td> 0.000</td>  <th>  Jarque-Bera (JB):  </th> <td> 126.488</td>\n",
       "</tr>\n",
       "<tr>\n",
       "  <th>Skew:</th>          <td> 0.129</td>  <th>  Prob(JB):          </th> <td>3.42e-28</td>\n",
       "</tr>\n",
       "<tr>\n",
       "  <th>Kurtosis:</th>      <td> 2.728</td>  <th>  Cond. No.          </th> <td>    5.66</td>\n",
       "</tr>\n",
       "</table><br/><br/>Notes:<br/>[1] Standard Errors assume that the covariance matrix of the errors is correctly specified."
      ],
      "text/plain": [
       "<class 'statsmodels.iolib.summary.Summary'>\n",
       "\"\"\"\n",
       "                            OLS Regression Results                            \n",
       "==============================================================================\n",
       "Dep. Variable:               ln_price   R-squared:                       0.484\n",
       "Model:                            OLS   Adj. R-squared:                  0.484\n",
       "Method:                 Least Squares   F-statistic:                     5058.\n",
       "Date:                Wed, 26 Oct 2022   Prob (F-statistic):               0.00\n",
       "Time:                        16:33:17   Log-Likelihood:                -9652.9\n",
       "No. Observations:               21597   AIC:                         1.932e+04\n",
       "Df Residuals:                   21592   BIC:                         1.936e+04\n",
       "Df Model:                           4                                         \n",
       "Covariance Type:            nonrobust                                         \n",
       "====================================================================================\n",
       "                       coef    std err          t      P>|t|      [0.025      0.975]\n",
       "------------------------------------------------------------------------------------\n",
       "const               13.0542      0.003   4765.913      0.000      13.049      13.060\n",
       "ln_sqft_living       0.3462      0.008     41.654      0.000       0.330       0.363\n",
       "ln_sqft_living15     0.1799      0.006     32.403      0.000       0.169       0.191\n",
       "ln_sqft_above       -0.0527      0.008     -6.899      0.000      -0.068      -0.038\n",
       "bathrooms            0.0476      0.004     12.193      0.000       0.040       0.055\n",
       "==============================================================================\n",
       "Omnibus:                      148.808   Durbin-Watson:                   1.975\n",
       "Prob(Omnibus):                  0.000   Jarque-Bera (JB):              126.488\n",
       "Skew:                           0.129   Prob(JB):                     3.42e-28\n",
       "Kurtosis:                       2.728   Cond. No.                         5.66\n",
       "==============================================================================\n",
       "\n",
       "Notes:\n",
       "[1] Standard Errors assume that the covariance matrix of the errors is correctly specified.\n",
       "\"\"\""
      ]
     },
     "execution_count": 10,
     "metadata": {},
     "output_type": "execute_result"
    }
   ],
   "source": [
    "# run 4th model\n",
    "# add bathrooms\n",
    "current_model = iterate(all_predictors['bathrooms'])\n",
    "construct_model(current_model)"
   ]
  },
  {
   "cell_type": "markdown",
   "metadata": {},
   "source": [
    "# 5th Iteration"
   ]
  },
  {
   "cell_type": "code",
   "execution_count": 11,
   "metadata": {},
   "outputs": [
    {
     "data": {
      "text/html": [
       "<table class=\"simpletable\">\n",
       "<caption>OLS Regression Results</caption>\n",
       "<tr>\n",
       "  <th>Dep. Variable:</th>        <td>ln_price</td>     <th>  R-squared:         </th> <td>   0.491</td> \n",
       "</tr>\n",
       "<tr>\n",
       "  <th>Model:</th>                   <td>OLS</td>       <th>  Adj. R-squared:    </th> <td>   0.491</td> \n",
       "</tr>\n",
       "<tr>\n",
       "  <th>Method:</th>             <td>Least Squares</td>  <th>  F-statistic:       </th> <td>   4171.</td> \n",
       "</tr>\n",
       "<tr>\n",
       "  <th>Date:</th>             <td>Wed, 26 Oct 2022</td> <th>  Prob (F-statistic):</th>  <td>  0.00</td>  \n",
       "</tr>\n",
       "<tr>\n",
       "  <th>Time:</th>                 <td>16:33:17</td>     <th>  Log-Likelihood:    </th> <td> -9493.3</td> \n",
       "</tr>\n",
       "<tr>\n",
       "  <th>No. Observations:</th>      <td> 21597</td>      <th>  AIC:               </th> <td>1.900e+04</td>\n",
       "</tr>\n",
       "<tr>\n",
       "  <th>Df Residuals:</th>          <td> 21591</td>      <th>  BIC:               </th> <td>1.905e+04</td>\n",
       "</tr>\n",
       "<tr>\n",
       "  <th>Df Model:</th>              <td>     5</td>      <th>                     </th>     <td> </td>    \n",
       "</tr>\n",
       "<tr>\n",
       "  <th>Covariance Type:</th>      <td>nonrobust</td>    <th>                     </th>     <td> </td>    \n",
       "</tr>\n",
       "</table>\n",
       "<table class=\"simpletable\">\n",
       "<tr>\n",
       "          <td></td>            <th>coef</th>     <th>std err</th>      <th>t</th>      <th>P>|t|</th>  <th>[0.025</th>    <th>0.975]</th>  \n",
       "</tr>\n",
       "<tr>\n",
       "  <th>const</th>            <td>   13.0804</td> <td>    0.003</td> <td> 4238.259</td> <td> 0.000</td> <td>   13.074</td> <td>   13.086</td>\n",
       "</tr>\n",
       "<tr>\n",
       "  <th>ln_sqft_living</th>   <td>    0.4021</td> <td>    0.009</td> <td>   45.591</td> <td> 0.000</td> <td>    0.385</td> <td>    0.419</td>\n",
       "</tr>\n",
       "<tr>\n",
       "  <th>ln_sqft_living15</th> <td>    0.1699</td> <td>    0.006</td> <td>   30.667</td> <td> 0.000</td> <td>    0.159</td> <td>    0.181</td>\n",
       "</tr>\n",
       "<tr>\n",
       "  <th>ln_sqft_above</th>    <td>   -0.0587</td> <td>    0.008</td> <td>   -7.727</td> <td> 0.000</td> <td>   -0.074</td> <td>   -0.044</td>\n",
       "</tr>\n",
       "<tr>\n",
       "  <th>bathrooms</th>        <td>    0.0536</td> <td>    0.004</td> <td>   13.775</td> <td> 0.000</td> <td>    0.046</td> <td>    0.061</td>\n",
       "</tr>\n",
       "<tr>\n",
       "  <th>bedrooms</th>         <td>   -0.0638</td> <td>    0.004</td> <td>  -17.933</td> <td> 0.000</td> <td>   -0.071</td> <td>   -0.057</td>\n",
       "</tr>\n",
       "</table>\n",
       "<table class=\"simpletable\">\n",
       "<tr>\n",
       "  <th>Omnibus:</th>       <td>110.041</td> <th>  Durbin-Watson:     </th> <td>   1.978</td>\n",
       "</tr>\n",
       "<tr>\n",
       "  <th>Prob(Omnibus):</th> <td> 0.000</td>  <th>  Jarque-Bera (JB):  </th> <td> 104.321</td>\n",
       "</tr>\n",
       "<tr>\n",
       "  <th>Skew:</th>          <td> 0.143</td>  <th>  Prob(JB):          </th> <td>2.22e-23</td>\n",
       "</tr>\n",
       "<tr>\n",
       "  <th>Kurtosis:</th>      <td> 2.815</td>  <th>  Cond. No.          </th> <td>    6.43</td>\n",
       "</tr>\n",
       "</table><br/><br/>Notes:<br/>[1] Standard Errors assume that the covariance matrix of the errors is correctly specified."
      ],
      "text/plain": [
       "<class 'statsmodels.iolib.summary.Summary'>\n",
       "\"\"\"\n",
       "                            OLS Regression Results                            \n",
       "==============================================================================\n",
       "Dep. Variable:               ln_price   R-squared:                       0.491\n",
       "Model:                            OLS   Adj. R-squared:                  0.491\n",
       "Method:                 Least Squares   F-statistic:                     4171.\n",
       "Date:                Wed, 26 Oct 2022   Prob (F-statistic):               0.00\n",
       "Time:                        16:33:17   Log-Likelihood:                -9493.3\n",
       "No. Observations:               21597   AIC:                         1.900e+04\n",
       "Df Residuals:                   21591   BIC:                         1.905e+04\n",
       "Df Model:                           5                                         \n",
       "Covariance Type:            nonrobust                                         \n",
       "====================================================================================\n",
       "                       coef    std err          t      P>|t|      [0.025      0.975]\n",
       "------------------------------------------------------------------------------------\n",
       "const               13.0804      0.003   4238.259      0.000      13.074      13.086\n",
       "ln_sqft_living       0.4021      0.009     45.591      0.000       0.385       0.419\n",
       "ln_sqft_living15     0.1699      0.006     30.667      0.000       0.159       0.181\n",
       "ln_sqft_above       -0.0587      0.008     -7.727      0.000      -0.074      -0.044\n",
       "bathrooms            0.0536      0.004     13.775      0.000       0.046       0.061\n",
       "bedrooms            -0.0638      0.004    -17.933      0.000      -0.071      -0.057\n",
       "==============================================================================\n",
       "Omnibus:                      110.041   Durbin-Watson:                   1.978\n",
       "Prob(Omnibus):                  0.000   Jarque-Bera (JB):              104.321\n",
       "Skew:                           0.143   Prob(JB):                     2.22e-23\n",
       "Kurtosis:                       2.815   Cond. No.                         6.43\n",
       "==============================================================================\n",
       "\n",
       "Notes:\n",
       "[1] Standard Errors assume that the covariance matrix of the errors is correctly specified.\n",
       "\"\"\""
      ]
     },
     "execution_count": 11,
     "metadata": {},
     "output_type": "execute_result"
    }
   ],
   "source": [
    "# run 4th model\n",
    "# add bedrooms\n",
    "current_model = iterate(all_predictors['bedrooms'])\n",
    "construct_model(current_model)"
   ]
  },
  {
   "cell_type": "markdown",
   "metadata": {},
   "source": [
    "# 6th Iteration"
   ]
  },
  {
   "cell_type": "code",
   "execution_count": 12,
   "metadata": {},
   "outputs": [
    {
     "data": {
      "text/html": [
       "<table class=\"simpletable\">\n",
       "<caption>OLS Regression Results</caption>\n",
       "<tr>\n",
       "  <th>Dep. Variable:</th>        <td>ln_price</td>     <th>  R-squared:         </th> <td>   0.496</td> \n",
       "</tr>\n",
       "<tr>\n",
       "  <th>Model:</th>                   <td>OLS</td>       <th>  Adj. R-squared:    </th> <td>   0.496</td> \n",
       "</tr>\n",
       "<tr>\n",
       "  <th>Method:</th>             <td>Least Squares</td>  <th>  F-statistic:       </th> <td>   3541.</td> \n",
       "</tr>\n",
       "<tr>\n",
       "  <th>Date:</th>             <td>Wed, 26 Oct 2022</td> <th>  Prob (F-statistic):</th>  <td>  0.00</td>  \n",
       "</tr>\n",
       "<tr>\n",
       "  <th>Time:</th>                 <td>16:33:17</td>     <th>  Log-Likelihood:    </th> <td> -9393.0</td> \n",
       "</tr>\n",
       "<tr>\n",
       "  <th>No. Observations:</th>      <td> 21597</td>      <th>  AIC:               </th> <td>1.880e+04</td>\n",
       "</tr>\n",
       "<tr>\n",
       "  <th>Df Residuals:</th>          <td> 21590</td>      <th>  BIC:               </th> <td>1.886e+04</td>\n",
       "</tr>\n",
       "<tr>\n",
       "  <th>Df Model:</th>              <td>     6</td>      <th>                     </th>     <td> </td>    \n",
       "</tr>\n",
       "<tr>\n",
       "  <th>Covariance Type:</th>      <td>nonrobust</td>    <th>                     </th>     <td> </td>    \n",
       "</tr>\n",
       "</table>\n",
       "<table class=\"simpletable\">\n",
       "<tr>\n",
       "          <td></td>            <th>coef</th>     <th>std err</th>      <th>t</th>      <th>P>|t|</th>  <th>[0.025</th>    <th>0.975]</th>  \n",
       "</tr>\n",
       "<tr>\n",
       "  <th>const</th>            <td>   13.0792</td> <td>    0.003</td> <td> 4255.798</td> <td> 0.000</td> <td>   13.073</td> <td>   13.085</td>\n",
       "</tr>\n",
       "<tr>\n",
       "  <th>ln_sqft_living</th>   <td>    0.4401</td> <td>    0.009</td> <td>   47.952</td> <td> 0.000</td> <td>    0.422</td> <td>    0.458</td>\n",
       "</tr>\n",
       "<tr>\n",
       "  <th>ln_sqft_living15</th> <td>    0.1798</td> <td>    0.006</td> <td>   32.350</td> <td> 0.000</td> <td>    0.169</td> <td>    0.191</td>\n",
       "</tr>\n",
       "<tr>\n",
       "  <th>ln_sqft_above</th>    <td>   -0.1201</td> <td>    0.009</td> <td>  -13.792</td> <td> 0.000</td> <td>   -0.137</td> <td>   -0.103</td>\n",
       "</tr>\n",
       "<tr>\n",
       "  <th>bathrooms</th>        <td>    0.0316</td> <td>    0.004</td> <td>    7.589</td> <td> 0.000</td> <td>    0.023</td> <td>    0.040</td>\n",
       "</tr>\n",
       "<tr>\n",
       "  <th>bedrooms</th>         <td>   -0.0588</td> <td>    0.004</td> <td>  -16.519</td> <td> 0.000</td> <td>   -0.066</td> <td>   -0.052</td>\n",
       "</tr>\n",
       "<tr>\n",
       "  <th>floors</th>           <td>    0.0898</td> <td>    0.006</td> <td>   14.196</td> <td> 0.000</td> <td>    0.077</td> <td>    0.102</td>\n",
       "</tr>\n",
       "</table>\n",
       "<table class=\"simpletable\">\n",
       "<tr>\n",
       "  <th>Omnibus:</th>       <td>107.876</td> <th>  Durbin-Watson:     </th> <td>   1.978</td>\n",
       "</tr>\n",
       "<tr>\n",
       "  <th>Prob(Omnibus):</th> <td> 0.000</td>  <th>  Jarque-Bera (JB):  </th> <td> 106.331</td>\n",
       "</tr>\n",
       "<tr>\n",
       "  <th>Skew:</th>          <td> 0.157</td>  <th>  Prob(JB):          </th> <td>8.14e-24</td>\n",
       "</tr>\n",
       "<tr>\n",
       "  <th>Kurtosis:</th>      <td> 2.860</td>  <th>  Cond. No.          </th> <td>    7.42</td>\n",
       "</tr>\n",
       "</table><br/><br/>Notes:<br/>[1] Standard Errors assume that the covariance matrix of the errors is correctly specified."
      ],
      "text/plain": [
       "<class 'statsmodels.iolib.summary.Summary'>\n",
       "\"\"\"\n",
       "                            OLS Regression Results                            \n",
       "==============================================================================\n",
       "Dep. Variable:               ln_price   R-squared:                       0.496\n",
       "Model:                            OLS   Adj. R-squared:                  0.496\n",
       "Method:                 Least Squares   F-statistic:                     3541.\n",
       "Date:                Wed, 26 Oct 2022   Prob (F-statistic):               0.00\n",
       "Time:                        16:33:17   Log-Likelihood:                -9393.0\n",
       "No. Observations:               21597   AIC:                         1.880e+04\n",
       "Df Residuals:                   21590   BIC:                         1.886e+04\n",
       "Df Model:                           6                                         \n",
       "Covariance Type:            nonrobust                                         \n",
       "====================================================================================\n",
       "                       coef    std err          t      P>|t|      [0.025      0.975]\n",
       "------------------------------------------------------------------------------------\n",
       "const               13.0792      0.003   4255.798      0.000      13.073      13.085\n",
       "ln_sqft_living       0.4401      0.009     47.952      0.000       0.422       0.458\n",
       "ln_sqft_living15     0.1798      0.006     32.350      0.000       0.169       0.191\n",
       "ln_sqft_above       -0.1201      0.009    -13.792      0.000      -0.137      -0.103\n",
       "bathrooms            0.0316      0.004      7.589      0.000       0.023       0.040\n",
       "bedrooms            -0.0588      0.004    -16.519      0.000      -0.066      -0.052\n",
       "floors               0.0898      0.006     14.196      0.000       0.077       0.102\n",
       "==============================================================================\n",
       "Omnibus:                      107.876   Durbin-Watson:                   1.978\n",
       "Prob(Omnibus):                  0.000   Jarque-Bera (JB):              106.331\n",
       "Skew:                           0.157   Prob(JB):                     8.14e-24\n",
       "Kurtosis:                       2.860   Cond. No.                         7.42\n",
       "==============================================================================\n",
       "\n",
       "Notes:\n",
       "[1] Standard Errors assume that the covariance matrix of the errors is correctly specified.\n",
       "\"\"\""
      ]
     },
     "execution_count": 12,
     "metadata": {},
     "output_type": "execute_result"
    }
   ],
   "source": [
    "# run 6th model\n",
    "# add floors\n",
    "current_model = iterate(all_predictors['floors'])\n",
    "construct_model(current_model)"
   ]
  },
  {
   "cell_type": "markdown",
   "metadata": {},
   "source": [
    "# 7th Iteration"
   ]
  },
  {
   "cell_type": "code",
   "execution_count": 13,
   "metadata": {},
   "outputs": [
    {
     "data": {
      "text/html": [
       "<table class=\"simpletable\">\n",
       "<caption>OLS Regression Results</caption>\n",
       "<tr>\n",
       "  <th>Dep. Variable:</th>        <td>ln_price</td>     <th>  R-squared:         </th> <td>   0.496</td> \n",
       "</tr>\n",
       "<tr>\n",
       "  <th>Model:</th>                   <td>OLS</td>       <th>  Adj. R-squared:    </th> <td>   0.496</td> \n",
       "</tr>\n",
       "<tr>\n",
       "  <th>Method:</th>             <td>Least Squares</td>  <th>  F-statistic:       </th> <td>   3035.</td> \n",
       "</tr>\n",
       "<tr>\n",
       "  <th>Date:</th>             <td>Wed, 26 Oct 2022</td> <th>  Prob (F-statistic):</th>  <td>  0.00</td>  \n",
       "</tr>\n",
       "<tr>\n",
       "  <th>Time:</th>                 <td>16:33:17</td>     <th>  Log-Likelihood:    </th> <td> -9392.7</td> \n",
       "</tr>\n",
       "<tr>\n",
       "  <th>No. Observations:</th>      <td> 21597</td>      <th>  AIC:               </th> <td>1.880e+04</td>\n",
       "</tr>\n",
       "<tr>\n",
       "  <th>Df Residuals:</th>          <td> 21589</td>      <th>  BIC:               </th> <td>1.887e+04</td>\n",
       "</tr>\n",
       "<tr>\n",
       "  <th>Df Model:</th>              <td>     7</td>      <th>                     </th>     <td> </td>    \n",
       "</tr>\n",
       "<tr>\n",
       "  <th>Covariance Type:</th>      <td>nonrobust</td>    <th>                     </th>     <td> </td>    \n",
       "</tr>\n",
       "</table>\n",
       "<table class=\"simpletable\">\n",
       "<tr>\n",
       "          <td></td>            <th>coef</th>     <th>std err</th>      <th>t</th>      <th>P>|t|</th>  <th>[0.025</th>    <th>0.975]</th>  \n",
       "</tr>\n",
       "<tr>\n",
       "  <th>const</th>            <td>   13.0795</td> <td>    0.003</td> <td> 4199.821</td> <td> 0.000</td> <td>   13.073</td> <td>   13.086</td>\n",
       "</tr>\n",
       "<tr>\n",
       "  <th>ln_sqft_living</th>   <td>    0.4402</td> <td>    0.009</td> <td>   47.956</td> <td> 0.000</td> <td>    0.422</td> <td>    0.458</td>\n",
       "</tr>\n",
       "<tr>\n",
       "  <th>ln_sqft_living15</th> <td>    0.1799</td> <td>    0.006</td> <td>   32.356</td> <td> 0.000</td> <td>    0.169</td> <td>    0.191</td>\n",
       "</tr>\n",
       "<tr>\n",
       "  <th>ln_sqft_above</th>    <td>   -0.1195</td> <td>    0.009</td> <td>  -13.641</td> <td> 0.000</td> <td>   -0.137</td> <td>   -0.102</td>\n",
       "</tr>\n",
       "<tr>\n",
       "  <th>bathrooms</th>        <td>    0.0316</td> <td>    0.004</td> <td>    7.589</td> <td> 0.000</td> <td>    0.023</td> <td>    0.040</td>\n",
       "</tr>\n",
       "<tr>\n",
       "  <th>bedrooms</th>         <td>   -0.0590</td> <td>    0.004</td> <td>  -16.520</td> <td> 0.000</td> <td>   -0.066</td> <td>   -0.052</td>\n",
       "</tr>\n",
       "<tr>\n",
       "  <th>floors</th>           <td>    0.0893</td> <td>    0.006</td> <td>   14.043</td> <td> 0.000</td> <td>    0.077</td> <td>    0.102</td>\n",
       "</tr>\n",
       "<tr>\n",
       "  <th>sqft_lot</th>         <td>   -0.0002</td> <td>    0.000</td> <td>   -0.670</td> <td> 0.503</td> <td>   -0.001</td> <td>    0.000</td>\n",
       "</tr>\n",
       "</table>\n",
       "<table class=\"simpletable\">\n",
       "<tr>\n",
       "  <th>Omnibus:</th>       <td>106.847</td> <th>  Durbin-Watson:     </th> <td>   1.978</td>\n",
       "</tr>\n",
       "<tr>\n",
       "  <th>Prob(Omnibus):</th> <td> 0.000</td>  <th>  Jarque-Bera (JB):  </th> <td> 105.296</td>\n",
       "</tr>\n",
       "<tr>\n",
       "  <th>Skew:</th>          <td> 0.156</td>  <th>  Prob(JB):          </th> <td>1.37e-23</td>\n",
       "</tr>\n",
       "<tr>\n",
       "  <th>Kurtosis:</th>      <td> 2.861</td>  <th>  Cond. No.          </th> <td>    35.0</td>\n",
       "</tr>\n",
       "</table><br/><br/>Notes:<br/>[1] Standard Errors assume that the covariance matrix of the errors is correctly specified."
      ],
      "text/plain": [
       "<class 'statsmodels.iolib.summary.Summary'>\n",
       "\"\"\"\n",
       "                            OLS Regression Results                            \n",
       "==============================================================================\n",
       "Dep. Variable:               ln_price   R-squared:                       0.496\n",
       "Model:                            OLS   Adj. R-squared:                  0.496\n",
       "Method:                 Least Squares   F-statistic:                     3035.\n",
       "Date:                Wed, 26 Oct 2022   Prob (F-statistic):               0.00\n",
       "Time:                        16:33:17   Log-Likelihood:                -9392.7\n",
       "No. Observations:               21597   AIC:                         1.880e+04\n",
       "Df Residuals:                   21589   BIC:                         1.887e+04\n",
       "Df Model:                           7                                         \n",
       "Covariance Type:            nonrobust                                         \n",
       "====================================================================================\n",
       "                       coef    std err          t      P>|t|      [0.025      0.975]\n",
       "------------------------------------------------------------------------------------\n",
       "const               13.0795      0.003   4199.821      0.000      13.073      13.086\n",
       "ln_sqft_living       0.4402      0.009     47.956      0.000       0.422       0.458\n",
       "ln_sqft_living15     0.1799      0.006     32.356      0.000       0.169       0.191\n",
       "ln_sqft_above       -0.1195      0.009    -13.641      0.000      -0.137      -0.102\n",
       "bathrooms            0.0316      0.004      7.589      0.000       0.023       0.040\n",
       "bedrooms            -0.0590      0.004    -16.520      0.000      -0.066      -0.052\n",
       "floors               0.0893      0.006     14.043      0.000       0.077       0.102\n",
       "sqft_lot            -0.0002      0.000     -0.670      0.503      -0.001       0.000\n",
       "==============================================================================\n",
       "Omnibus:                      106.847   Durbin-Watson:                   1.978\n",
       "Prob(Omnibus):                  0.000   Jarque-Bera (JB):              105.296\n",
       "Skew:                           0.156   Prob(JB):                     1.37e-23\n",
       "Kurtosis:                       2.861   Cond. No.                         35.0\n",
       "==============================================================================\n",
       "\n",
       "Notes:\n",
       "[1] Standard Errors assume that the covariance matrix of the errors is correctly specified.\n",
       "\"\"\""
      ]
     },
     "execution_count": 13,
     "metadata": {},
     "output_type": "execute_result"
    }
   ],
   "source": [
    "# run 7th model\n",
    "# add sqft_lot\n",
    "current_model = iterate(all_predictors['sqft_lot'])\n",
    "construct_model(current_model)"
   ]
  },
  {
   "cell_type": "code",
   "execution_count": 14,
   "metadata": {},
   "outputs": [],
   "source": [
    "# no change in rqsquared, dropping from exog dataframe\n",
    "current_model.drop(labels='sqft_lot', axis=1, inplace=True)"
   ]
  },
  {
   "cell_type": "markdown",
   "metadata": {},
   "source": [
    "# 8th Iteration"
   ]
  },
  {
   "cell_type": "code",
   "execution_count": 15,
   "metadata": {},
   "outputs": [
    {
     "data": {
      "text/html": [
       "<table class=\"simpletable\">\n",
       "<caption>OLS Regression Results</caption>\n",
       "<tr>\n",
       "  <th>Dep. Variable:</th>        <td>ln_price</td>     <th>  R-squared:         </th> <td>   0.497</td> \n",
       "</tr>\n",
       "<tr>\n",
       "  <th>Model:</th>                   <td>OLS</td>       <th>  Adj. R-squared:    </th> <td>   0.496</td> \n",
       "</tr>\n",
       "<tr>\n",
       "  <th>Method:</th>             <td>Least Squares</td>  <th>  F-statistic:       </th> <td>   3043.</td> \n",
       "</tr>\n",
       "<tr>\n",
       "  <th>Date:</th>             <td>Wed, 26 Oct 2022</td> <th>  Prob (F-statistic):</th>  <td>  0.00</td>  \n",
       "</tr>\n",
       "<tr>\n",
       "  <th>Time:</th>                 <td>16:33:17</td>     <th>  Log-Likelihood:    </th> <td> -9379.4</td> \n",
       "</tr>\n",
       "<tr>\n",
       "  <th>No. Observations:</th>      <td> 21597</td>      <th>  AIC:               </th> <td>1.877e+04</td>\n",
       "</tr>\n",
       "<tr>\n",
       "  <th>Df Residuals:</th>          <td> 21589</td>      <th>  BIC:               </th> <td>1.884e+04</td>\n",
       "</tr>\n",
       "<tr>\n",
       "  <th>Df Model:</th>              <td>     7</td>      <th>                     </th>     <td> </td>    \n",
       "</tr>\n",
       "<tr>\n",
       "  <th>Covariance Type:</th>      <td>nonrobust</td>    <th>                     </th>     <td> </td>    \n",
       "</tr>\n",
       "</table>\n",
       "<table class=\"simpletable\">\n",
       "<tr>\n",
       "          <td></td>            <th>coef</th>     <th>std err</th>      <th>t</th>      <th>P>|t|</th>  <th>[0.025</th>    <th>0.975]</th>  \n",
       "</tr>\n",
       "<tr>\n",
       "  <th>const</th>            <td>   13.0819</td> <td>    0.003</td> <td> 4199.713</td> <td> 0.000</td> <td>   13.076</td> <td>   13.088</td>\n",
       "</tr>\n",
       "<tr>\n",
       "  <th>ln_sqft_living</th>   <td>    0.4406</td> <td>    0.009</td> <td>   48.029</td> <td> 0.000</td> <td>    0.423</td> <td>    0.459</td>\n",
       "</tr>\n",
       "<tr>\n",
       "  <th>ln_sqft_living15</th> <td>    0.1812</td> <td>    0.006</td> <td>   32.590</td> <td> 0.000</td> <td>    0.170</td> <td>    0.192</td>\n",
       "</tr>\n",
       "<tr>\n",
       "  <th>ln_sqft_above</th>    <td>   -0.1151</td> <td>    0.009</td> <td>  -13.146</td> <td> 0.000</td> <td>   -0.132</td> <td>   -0.098</td>\n",
       "</tr>\n",
       "<tr>\n",
       "  <th>bathrooms</th>        <td>    0.0314</td> <td>    0.004</td> <td>    7.538</td> <td> 0.000</td> <td>    0.023</td> <td>    0.040</td>\n",
       "</tr>\n",
       "<tr>\n",
       "  <th>bedrooms</th>         <td>   -0.0605</td> <td>    0.004</td> <td>  -16.920</td> <td> 0.000</td> <td>   -0.067</td> <td>   -0.053</td>\n",
       "</tr>\n",
       "<tr>\n",
       "  <th>floors</th>           <td>    0.0859</td> <td>    0.006</td> <td>   13.511</td> <td> 0.000</td> <td>    0.073</td> <td>    0.098</td>\n",
       "</tr>\n",
       "<tr>\n",
       "  <th>sqft_lot15</th>       <td>   -0.0025</td> <td>    0.000</td> <td>   -5.206</td> <td> 0.000</td> <td>   -0.003</td> <td>   -0.002</td>\n",
       "</tr>\n",
       "</table>\n",
       "<table class=\"simpletable\">\n",
       "<tr>\n",
       "  <th>Omnibus:</th>       <td>97.692</td> <th>  Durbin-Watson:     </th> <td>   1.979</td>\n",
       "</tr>\n",
       "<tr>\n",
       "  <th>Prob(Omnibus):</th> <td> 0.000</td> <th>  Jarque-Bera (JB):  </th> <td>  96.246</td>\n",
       "</tr>\n",
       "<tr>\n",
       "  <th>Skew:</th>          <td> 0.149</td> <th>  Prob(JB):          </th> <td>1.26e-21</td>\n",
       "</tr>\n",
       "<tr>\n",
       "  <th>Kurtosis:</th>      <td> 2.865</td> <th>  Cond. No.          </th> <td>    26.2</td>\n",
       "</tr>\n",
       "</table><br/><br/>Notes:<br/>[1] Standard Errors assume that the covariance matrix of the errors is correctly specified."
      ],
      "text/plain": [
       "<class 'statsmodels.iolib.summary.Summary'>\n",
       "\"\"\"\n",
       "                            OLS Regression Results                            \n",
       "==============================================================================\n",
       "Dep. Variable:               ln_price   R-squared:                       0.497\n",
       "Model:                            OLS   Adj. R-squared:                  0.496\n",
       "Method:                 Least Squares   F-statistic:                     3043.\n",
       "Date:                Wed, 26 Oct 2022   Prob (F-statistic):               0.00\n",
       "Time:                        16:33:17   Log-Likelihood:                -9379.4\n",
       "No. Observations:               21597   AIC:                         1.877e+04\n",
       "Df Residuals:                   21589   BIC:                         1.884e+04\n",
       "Df Model:                           7                                         \n",
       "Covariance Type:            nonrobust                                         \n",
       "====================================================================================\n",
       "                       coef    std err          t      P>|t|      [0.025      0.975]\n",
       "------------------------------------------------------------------------------------\n",
       "const               13.0819      0.003   4199.713      0.000      13.076      13.088\n",
       "ln_sqft_living       0.4406      0.009     48.029      0.000       0.423       0.459\n",
       "ln_sqft_living15     0.1812      0.006     32.590      0.000       0.170       0.192\n",
       "ln_sqft_above       -0.1151      0.009    -13.146      0.000      -0.132      -0.098\n",
       "bathrooms            0.0314      0.004      7.538      0.000       0.023       0.040\n",
       "bedrooms            -0.0605      0.004    -16.920      0.000      -0.067      -0.053\n",
       "floors               0.0859      0.006     13.511      0.000       0.073       0.098\n",
       "sqft_lot15          -0.0025      0.000     -5.206      0.000      -0.003      -0.002\n",
       "==============================================================================\n",
       "Omnibus:                       97.692   Durbin-Watson:                   1.979\n",
       "Prob(Omnibus):                  0.000   Jarque-Bera (JB):               96.246\n",
       "Skew:                           0.149   Prob(JB):                     1.26e-21\n",
       "Kurtosis:                       2.865   Cond. No.                         26.2\n",
       "==============================================================================\n",
       "\n",
       "Notes:\n",
       "[1] Standard Errors assume that the covariance matrix of the errors is correctly specified.\n",
       "\"\"\""
      ]
     },
     "execution_count": 15,
     "metadata": {},
     "output_type": "execute_result"
    }
   ],
   "source": [
    "# run 8th model\n",
    "# add sqft_lot15\n",
    "current_model = iterate(all_predictors['sqft_lot15'])\n",
    "construct_model(current_model)"
   ]
  },
  {
   "cell_type": "code",
   "execution_count": 16,
   "metadata": {},
   "outputs": [],
   "source": [
    "# no change in rqsquared, dropping from exog dataframe\n",
    "current_model.drop(labels='sqft_lot15', axis=1, inplace=True)"
   ]
  },
  {
   "cell_type": "markdown",
   "metadata": {},
   "source": [
    "# 9th Iteration"
   ]
  },
  {
   "cell_type": "code",
   "execution_count": 17,
   "metadata": {},
   "outputs": [
    {
     "data": {
      "text/html": [
       "<table class=\"simpletable\">\n",
       "<caption>OLS Regression Results</caption>\n",
       "<tr>\n",
       "  <th>Dep. Variable:</th>        <td>ln_price</td>     <th>  R-squared:         </th> <td>   0.498</td> \n",
       "</tr>\n",
       "<tr>\n",
       "  <th>Model:</th>                   <td>OLS</td>       <th>  Adj. R-squared:    </th> <td>   0.497</td> \n",
       "</tr>\n",
       "<tr>\n",
       "  <th>Method:</th>             <td>Least Squares</td>  <th>  F-statistic:       </th> <td>   3055.</td> \n",
       "</tr>\n",
       "<tr>\n",
       "  <th>Date:</th>             <td>Wed, 26 Oct 2022</td> <th>  Prob (F-statistic):</th>  <td>  0.00</td>  \n",
       "</tr>\n",
       "<tr>\n",
       "  <th>Time:</th>                 <td>16:33:17</td>     <th>  Log-Likelihood:    </th> <td> -9357.6</td> \n",
       "</tr>\n",
       "<tr>\n",
       "  <th>No. Observations:</th>      <td> 21597</td>      <th>  AIC:               </th> <td>1.873e+04</td>\n",
       "</tr>\n",
       "<tr>\n",
       "  <th>Df Residuals:</th>          <td> 21589</td>      <th>  BIC:               </th> <td>1.879e+04</td>\n",
       "</tr>\n",
       "<tr>\n",
       "  <th>Df Model:</th>              <td>     7</td>      <th>                     </th>     <td> </td>    \n",
       "</tr>\n",
       "<tr>\n",
       "  <th>Covariance Type:</th>      <td>nonrobust</td>    <th>                     </th>     <td> </td>    \n",
       "</tr>\n",
       "</table>\n",
       "<table class=\"simpletable\">\n",
       "<tr>\n",
       "          <td></td>            <th>coef</th>     <th>std err</th>      <th>t</th>      <th>P>|t|</th>  <th>[0.025</th>    <th>0.975]</th>  \n",
       "</tr>\n",
       "<tr>\n",
       "  <th>const</th>            <td>   13.0677</td> <td>    0.003</td> <td> 3893.430</td> <td> 0.000</td> <td>   13.061</td> <td>   13.074</td>\n",
       "</tr>\n",
       "<tr>\n",
       "  <th>ln_sqft_living</th>   <td>    0.4382</td> <td>    0.009</td> <td>   47.805</td> <td> 0.000</td> <td>    0.420</td> <td>    0.456</td>\n",
       "</tr>\n",
       "<tr>\n",
       "  <th>ln_sqft_living15</th> <td>    0.1811</td> <td>    0.006</td> <td>   32.631</td> <td> 0.000</td> <td>    0.170</td> <td>    0.192</td>\n",
       "</tr>\n",
       "<tr>\n",
       "  <th>ln_sqft_above</th>    <td>   -0.1197</td> <td>    0.009</td> <td>  -13.762</td> <td> 0.000</td> <td>   -0.137</td> <td>   -0.103</td>\n",
       "</tr>\n",
       "<tr>\n",
       "  <th>bathrooms</th>        <td>    0.0314</td> <td>    0.004</td> <td>    7.547</td> <td> 0.000</td> <td>    0.023</td> <td>    0.040</td>\n",
       "</tr>\n",
       "<tr>\n",
       "  <th>bedrooms</th>         <td>   -0.0583</td> <td>    0.004</td> <td>  -16.396</td> <td> 0.000</td> <td>   -0.065</td> <td>   -0.051</td>\n",
       "</tr>\n",
       "<tr>\n",
       "  <th>floors</th>           <td>    0.0902</td> <td>    0.006</td> <td>   14.283</td> <td> 0.000</td> <td>    0.078</td> <td>    0.103</td>\n",
       "</tr>\n",
       "<tr>\n",
       "  <th>renovated</th>        <td>    0.0523</td> <td>    0.006</td> <td>    8.420</td> <td> 0.000</td> <td>    0.040</td> <td>    0.065</td>\n",
       "</tr>\n",
       "</table>\n",
       "<table class=\"simpletable\">\n",
       "<tr>\n",
       "  <th>Omnibus:</th>       <td>100.899</td> <th>  Durbin-Watson:     </th> <td>   1.981</td>\n",
       "</tr>\n",
       "<tr>\n",
       "  <th>Prob(Omnibus):</th> <td> 0.000</td>  <th>  Jarque-Bera (JB):  </th> <td>  99.179</td>\n",
       "</tr>\n",
       "<tr>\n",
       "  <th>Skew:</th>          <td> 0.151</td>  <th>  Prob(JB):          </th> <td>2.91e-22</td>\n",
       "</tr>\n",
       "<tr>\n",
       "  <th>Kurtosis:</th>      <td> 2.860</td>  <th>  Cond. No.          </th> <td>    7.42</td>\n",
       "</tr>\n",
       "</table><br/><br/>Notes:<br/>[1] Standard Errors assume that the covariance matrix of the errors is correctly specified."
      ],
      "text/plain": [
       "<class 'statsmodels.iolib.summary.Summary'>\n",
       "\"\"\"\n",
       "                            OLS Regression Results                            \n",
       "==============================================================================\n",
       "Dep. Variable:               ln_price   R-squared:                       0.498\n",
       "Model:                            OLS   Adj. R-squared:                  0.497\n",
       "Method:                 Least Squares   F-statistic:                     3055.\n",
       "Date:                Wed, 26 Oct 2022   Prob (F-statistic):               0.00\n",
       "Time:                        16:33:17   Log-Likelihood:                -9357.6\n",
       "No. Observations:               21597   AIC:                         1.873e+04\n",
       "Df Residuals:                   21589   BIC:                         1.879e+04\n",
       "Df Model:                           7                                         \n",
       "Covariance Type:            nonrobust                                         \n",
       "====================================================================================\n",
       "                       coef    std err          t      P>|t|      [0.025      0.975]\n",
       "------------------------------------------------------------------------------------\n",
       "const               13.0677      0.003   3893.430      0.000      13.061      13.074\n",
       "ln_sqft_living       0.4382      0.009     47.805      0.000       0.420       0.456\n",
       "ln_sqft_living15     0.1811      0.006     32.631      0.000       0.170       0.192\n",
       "ln_sqft_above       -0.1197      0.009    -13.762      0.000      -0.137      -0.103\n",
       "bathrooms            0.0314      0.004      7.547      0.000       0.023       0.040\n",
       "bedrooms            -0.0583      0.004    -16.396      0.000      -0.065      -0.051\n",
       "floors               0.0902      0.006     14.283      0.000       0.078       0.103\n",
       "renovated            0.0523      0.006      8.420      0.000       0.040       0.065\n",
       "==============================================================================\n",
       "Omnibus:                      100.899   Durbin-Watson:                   1.981\n",
       "Prob(Omnibus):                  0.000   Jarque-Bera (JB):               99.179\n",
       "Skew:                           0.151   Prob(JB):                     2.91e-22\n",
       "Kurtosis:                       2.860   Cond. No.                         7.42\n",
       "==============================================================================\n",
       "\n",
       "Notes:\n",
       "[1] Standard Errors assume that the covariance matrix of the errors is correctly specified.\n",
       "\"\"\""
      ]
     },
     "execution_count": 17,
     "metadata": {},
     "output_type": "execute_result"
    }
   ],
   "source": [
    "# run 9th model\n",
    "# add renovated\n",
    "current_model = iterate(all_predictors['renovated'])\n",
    "construct_model(current_model)"
   ]
  },
  {
   "cell_type": "code",
   "execution_count": 18,
   "metadata": {},
   "outputs": [],
   "source": [
    "# no change in rqsquared, dropping from exog dataframe\n",
    "current_model.drop(labels='renovated', axis=1, inplace=True)"
   ]
  },
  {
   "cell_type": "markdown",
   "metadata": {},
   "source": [
    "# 10th Iteration"
   ]
  },
  {
   "cell_type": "code",
   "execution_count": 19,
   "metadata": {},
   "outputs": [
    {
     "data": {
      "text/html": [
       "<table class=\"simpletable\">\n",
       "<caption>OLS Regression Results</caption>\n",
       "<tr>\n",
       "  <th>Dep. Variable:</th>        <td>ln_price</td>     <th>  R-squared:         </th> <td>   0.507</td> \n",
       "</tr>\n",
       "<tr>\n",
       "  <th>Model:</th>                   <td>OLS</td>       <th>  Adj. R-squared:    </th> <td>   0.507</td> \n",
       "</tr>\n",
       "<tr>\n",
       "  <th>Method:</th>             <td>Least Squares</td>  <th>  F-statistic:       </th> <td>   3178.</td> \n",
       "</tr>\n",
       "<tr>\n",
       "  <th>Date:</th>             <td>Wed, 26 Oct 2022</td> <th>  Prob (F-statistic):</th>  <td>  0.00</td>  \n",
       "</tr>\n",
       "<tr>\n",
       "  <th>Time:</th>                 <td>16:33:17</td>     <th>  Log-Likelihood:    </th> <td> -9144.4</td> \n",
       "</tr>\n",
       "<tr>\n",
       "  <th>No. Observations:</th>      <td> 21597</td>      <th>  AIC:               </th> <td>1.830e+04</td>\n",
       "</tr>\n",
       "<tr>\n",
       "  <th>Df Residuals:</th>          <td> 21589</td>      <th>  BIC:               </th> <td>1.837e+04</td>\n",
       "</tr>\n",
       "<tr>\n",
       "  <th>Df Model:</th>              <td>     7</td>      <th>                     </th>     <td> </td>    \n",
       "</tr>\n",
       "<tr>\n",
       "  <th>Covariance Type:</th>      <td>nonrobust</td>    <th>                     </th>     <td> </td>    \n",
       "</tr>\n",
       "</table>\n",
       "<table class=\"simpletable\">\n",
       "<tr>\n",
       "          <td></td>            <th>coef</th>     <th>std err</th>      <th>t</th>      <th>P>|t|</th>  <th>[0.025</th>    <th>0.975]</th>  \n",
       "</tr>\n",
       "<tr>\n",
       "  <th>const</th>            <td>   13.0430</td> <td>    0.003</td> <td> 3790.858</td> <td> 0.000</td> <td>   13.036</td> <td>   13.050</td>\n",
       "</tr>\n",
       "<tr>\n",
       "  <th>ln_sqft_living</th>   <td>    0.4170</td> <td>    0.009</td> <td>   45.666</td> <td> 0.000</td> <td>    0.399</td> <td>    0.435</td>\n",
       "</tr>\n",
       "<tr>\n",
       "  <th>ln_sqft_living15</th> <td>    0.1862</td> <td>    0.006</td> <td>   33.844</td> <td> 0.000</td> <td>    0.175</td> <td>    0.197</td>\n",
       "</tr>\n",
       "<tr>\n",
       "  <th>ln_sqft_above</th>    <td>   -0.1027</td> <td>    0.009</td> <td>  -11.875</td> <td> 0.000</td> <td>   -0.120</td> <td>   -0.086</td>\n",
       "</tr>\n",
       "<tr>\n",
       "  <th>bathrooms</th>        <td>    0.0370</td> <td>    0.004</td> <td>    8.957</td> <td> 0.000</td> <td>    0.029</td> <td>    0.045</td>\n",
       "</tr>\n",
       "<tr>\n",
       "  <th>bedrooms</th>         <td>   -0.0632</td> <td>    0.004</td> <td>  -17.923</td> <td> 0.000</td> <td>   -0.070</td> <td>   -0.056</td>\n",
       "</tr>\n",
       "<tr>\n",
       "  <th>floors</th>           <td>    0.1119</td> <td>    0.006</td> <td>   17.685</td> <td> 0.000</td> <td>    0.100</td> <td>    0.124</td>\n",
       "</tr>\n",
       "<tr>\n",
       "  <th>cond_ord</th>         <td>    0.0909</td> <td>    0.004</td> <td>   22.420</td> <td> 0.000</td> <td>    0.083</td> <td>    0.099</td>\n",
       "</tr>\n",
       "</table>\n",
       "<table class=\"simpletable\">\n",
       "<tr>\n",
       "  <th>Omnibus:</th>       <td>110.767</td> <th>  Durbin-Watson:     </th> <td>   1.980</td>\n",
       "</tr>\n",
       "<tr>\n",
       "  <th>Prob(Omnibus):</th> <td> 0.000</td>  <th>  Jarque-Bera (JB):  </th> <td> 111.195</td>\n",
       "</tr>\n",
       "<tr>\n",
       "  <th>Skew:</th>          <td> 0.168</td>  <th>  Prob(JB):          </th> <td>7.15e-25</td>\n",
       "</tr>\n",
       "<tr>\n",
       "  <th>Kurtosis:</th>      <td> 2.897</td>  <th>  Cond. No.          </th> <td>    7.45</td>\n",
       "</tr>\n",
       "</table><br/><br/>Notes:<br/>[1] Standard Errors assume that the covariance matrix of the errors is correctly specified."
      ],
      "text/plain": [
       "<class 'statsmodels.iolib.summary.Summary'>\n",
       "\"\"\"\n",
       "                            OLS Regression Results                            \n",
       "==============================================================================\n",
       "Dep. Variable:               ln_price   R-squared:                       0.507\n",
       "Model:                            OLS   Adj. R-squared:                  0.507\n",
       "Method:                 Least Squares   F-statistic:                     3178.\n",
       "Date:                Wed, 26 Oct 2022   Prob (F-statistic):               0.00\n",
       "Time:                        16:33:17   Log-Likelihood:                -9144.4\n",
       "No. Observations:               21597   AIC:                         1.830e+04\n",
       "Df Residuals:                   21589   BIC:                         1.837e+04\n",
       "Df Model:                           7                                         \n",
       "Covariance Type:            nonrobust                                         \n",
       "====================================================================================\n",
       "                       coef    std err          t      P>|t|      [0.025      0.975]\n",
       "------------------------------------------------------------------------------------\n",
       "const               13.0430      0.003   3790.858      0.000      13.036      13.050\n",
       "ln_sqft_living       0.4170      0.009     45.666      0.000       0.399       0.435\n",
       "ln_sqft_living15     0.1862      0.006     33.844      0.000       0.175       0.197\n",
       "ln_sqft_above       -0.1027      0.009    -11.875      0.000      -0.120      -0.086\n",
       "bathrooms            0.0370      0.004      8.957      0.000       0.029       0.045\n",
       "bedrooms            -0.0632      0.004    -17.923      0.000      -0.070      -0.056\n",
       "floors               0.1119      0.006     17.685      0.000       0.100       0.124\n",
       "cond_ord             0.0909      0.004     22.420      0.000       0.083       0.099\n",
       "==============================================================================\n",
       "Omnibus:                      110.767   Durbin-Watson:                   1.980\n",
       "Prob(Omnibus):                  0.000   Jarque-Bera (JB):              111.195\n",
       "Skew:                           0.168   Prob(JB):                     7.15e-25\n",
       "Kurtosis:                       2.897   Cond. No.                         7.45\n",
       "==============================================================================\n",
       "\n",
       "Notes:\n",
       "[1] Standard Errors assume that the covariance matrix of the errors is correctly specified.\n",
       "\"\"\""
      ]
     },
     "execution_count": 19,
     "metadata": {},
     "output_type": "execute_result"
    }
   ],
   "source": [
    "# run 10th model\n",
    "# add conditional ordinal encoded\n",
    "current_model = iterate(categorical_ordinal['cond_ord'])\n",
    "construct_model(current_model)"
   ]
  },
  {
   "cell_type": "markdown",
   "metadata": {},
   "source": [
    "# 11th Iteration"
   ]
  },
  {
   "cell_type": "code",
   "execution_count": 20,
   "metadata": {
    "scrolled": true
   },
   "outputs": [
    {
     "data": {
      "text/html": [
       "<table class=\"simpletable\">\n",
       "<caption>OLS Regression Results</caption>\n",
       "<tr>\n",
       "  <th>Dep. Variable:</th>        <td>ln_price</td>     <th>  R-squared:         </th> <td>   0.577</td> \n",
       "</tr>\n",
       "<tr>\n",
       "  <th>Model:</th>                   <td>OLS</td>       <th>  Adj. R-squared:    </th> <td>   0.577</td> \n",
       "</tr>\n",
       "<tr>\n",
       "  <th>Method:</th>             <td>Least Squares</td>  <th>  F-statistic:       </th> <td>   3684.</td> \n",
       "</tr>\n",
       "<tr>\n",
       "  <th>Date:</th>             <td>Wed, 26 Oct 2022</td> <th>  Prob (F-statistic):</th>  <td>  0.00</td>  \n",
       "</tr>\n",
       "<tr>\n",
       "  <th>Time:</th>                 <td>16:33:18</td>     <th>  Log-Likelihood:    </th> <td> -7496.0</td> \n",
       "</tr>\n",
       "<tr>\n",
       "  <th>No. Observations:</th>      <td> 21597</td>      <th>  AIC:               </th> <td>1.501e+04</td>\n",
       "</tr>\n",
       "<tr>\n",
       "  <th>Df Residuals:</th>          <td> 21588</td>      <th>  BIC:               </th> <td>1.508e+04</td>\n",
       "</tr>\n",
       "<tr>\n",
       "  <th>Df Model:</th>              <td>     8</td>      <th>                     </th>     <td> </td>    \n",
       "</tr>\n",
       "<tr>\n",
       "  <th>Covariance Type:</th>      <td>nonrobust</td>    <th>                     </th>     <td> </td>    \n",
       "</tr>\n",
       "</table>\n",
       "<table class=\"simpletable\">\n",
       "<tr>\n",
       "          <td></td>            <th>coef</th>     <th>std err</th>      <th>t</th>      <th>P>|t|</th>  <th>[0.025</th>    <th>0.975]</th>  \n",
       "</tr>\n",
       "<tr>\n",
       "  <th>const</th>            <td>   12.8920</td> <td>    0.004</td> <td> 3167.352</td> <td> 0.000</td> <td>   12.884</td> <td>   12.900</td>\n",
       "</tr>\n",
       "<tr>\n",
       "  <th>ln_sqft_living</th>   <td>    0.3160</td> <td>    0.009</td> <td>   36.619</td> <td> 0.000</td> <td>    0.299</td> <td>    0.333</td>\n",
       "</tr>\n",
       "<tr>\n",
       "  <th>ln_sqft_living15</th> <td>    0.1019</td> <td>    0.005</td> <td>   19.267</td> <td> 0.000</td> <td>    0.092</td> <td>    0.112</td>\n",
       "</tr>\n",
       "<tr>\n",
       "  <th>ln_sqft_above</th>    <td>   -0.1669</td> <td>    0.008</td> <td>  -20.648</td> <td> 0.000</td> <td>   -0.183</td> <td>   -0.151</td>\n",
       "</tr>\n",
       "<tr>\n",
       "  <th>bathrooms</th>        <td>   -0.0030</td> <td>    0.004</td> <td>   -0.768</td> <td> 0.443</td> <td>   -0.011</td> <td>    0.005</td>\n",
       "</tr>\n",
       "<tr>\n",
       "  <th>bedrooms</th>         <td>   -0.0267</td> <td>    0.003</td> <td>   -8.047</td> <td> 0.000</td> <td>   -0.033</td> <td>   -0.020</td>\n",
       "</tr>\n",
       "<tr>\n",
       "  <th>floors</th>           <td>    0.0658</td> <td>    0.006</td> <td>   11.123</td> <td> 0.000</td> <td>    0.054</td> <td>    0.077</td>\n",
       "</tr>\n",
       "<tr>\n",
       "  <th>cond_ord</th>         <td>    0.1011</td> <td>    0.004</td> <td>   26.880</td> <td> 0.000</td> <td>    0.094</td> <td>    0.108</td>\n",
       "</tr>\n",
       "<tr>\n",
       "  <th>grade_ord</th>        <td>    0.2030</td> <td>    0.003</td> <td>   59.669</td> <td> 0.000</td> <td>    0.196</td> <td>    0.210</td>\n",
       "</tr>\n",
       "</table>\n",
       "<table class=\"simpletable\">\n",
       "<tr>\n",
       "  <th>Omnibus:</th>       <td>89.518</td> <th>  Durbin-Watson:     </th> <td>   1.978</td>\n",
       "</tr>\n",
       "<tr>\n",
       "  <th>Prob(Omnibus):</th> <td> 0.000</td> <th>  Jarque-Bera (JB):  </th> <td>  90.529</td>\n",
       "</tr>\n",
       "<tr>\n",
       "  <th>Skew:</th>          <td> 0.158</td> <th>  Prob(JB):          </th> <td>2.20e-20</td>\n",
       "</tr>\n",
       "<tr>\n",
       "  <th>Kurtosis:</th>      <td> 3.037</td> <th>  Cond. No.          </th> <td>    9.14</td>\n",
       "</tr>\n",
       "</table><br/><br/>Notes:<br/>[1] Standard Errors assume that the covariance matrix of the errors is correctly specified."
      ],
      "text/plain": [
       "<class 'statsmodels.iolib.summary.Summary'>\n",
       "\"\"\"\n",
       "                            OLS Regression Results                            \n",
       "==============================================================================\n",
       "Dep. Variable:               ln_price   R-squared:                       0.577\n",
       "Model:                            OLS   Adj. R-squared:                  0.577\n",
       "Method:                 Least Squares   F-statistic:                     3684.\n",
       "Date:                Wed, 26 Oct 2022   Prob (F-statistic):               0.00\n",
       "Time:                        16:33:18   Log-Likelihood:                -7496.0\n",
       "No. Observations:               21597   AIC:                         1.501e+04\n",
       "Df Residuals:                   21588   BIC:                         1.508e+04\n",
       "Df Model:                           8                                         \n",
       "Covariance Type:            nonrobust                                         \n",
       "====================================================================================\n",
       "                       coef    std err          t      P>|t|      [0.025      0.975]\n",
       "------------------------------------------------------------------------------------\n",
       "const               12.8920      0.004   3167.352      0.000      12.884      12.900\n",
       "ln_sqft_living       0.3160      0.009     36.619      0.000       0.299       0.333\n",
       "ln_sqft_living15     0.1019      0.005     19.267      0.000       0.092       0.112\n",
       "ln_sqft_above       -0.1669      0.008    -20.648      0.000      -0.183      -0.151\n",
       "bathrooms           -0.0030      0.004     -0.768      0.443      -0.011       0.005\n",
       "bedrooms            -0.0267      0.003     -8.047      0.000      -0.033      -0.020\n",
       "floors               0.0658      0.006     11.123      0.000       0.054       0.077\n",
       "cond_ord             0.1011      0.004     26.880      0.000       0.094       0.108\n",
       "grade_ord            0.2030      0.003     59.669      0.000       0.196       0.210\n",
       "==============================================================================\n",
       "Omnibus:                       89.518   Durbin-Watson:                   1.978\n",
       "Prob(Omnibus):                  0.000   Jarque-Bera (JB):               90.529\n",
       "Skew:                           0.158   Prob(JB):                     2.20e-20\n",
       "Kurtosis:                       3.037   Cond. No.                         9.14\n",
       "==============================================================================\n",
       "\n",
       "Notes:\n",
       "[1] Standard Errors assume that the covariance matrix of the errors is correctly specified.\n",
       "\"\"\""
      ]
     },
     "execution_count": 20,
     "metadata": {},
     "output_type": "execute_result"
    }
   ],
   "source": [
    "# run 11th model\n",
    "# add grade ordinal encoded\n",
    "current_model = iterate(categorical_ordinal['grade_ord'])\n",
    "construct_model(current_model)"
   ]
  },
  {
   "cell_type": "markdown",
   "metadata": {},
   "source": [
    "# 12th Iteration"
   ]
  },
  {
   "cell_type": "code",
   "execution_count": 21,
   "metadata": {
    "scrolled": true
   },
   "outputs": [
    {
     "data": {
      "text/html": [
       "<table class=\"simpletable\">\n",
       "<caption>OLS Regression Results</caption>\n",
       "<tr>\n",
       "  <th>Dep. Variable:</th>        <td>ln_price</td>     <th>  R-squared:         </th> <td>   0.563</td> \n",
       "</tr>\n",
       "<tr>\n",
       "  <th>Model:</th>                   <td>OLS</td>       <th>  Adj. R-squared:    </th> <td>   0.563</td> \n",
       "</tr>\n",
       "<tr>\n",
       "  <th>Method:</th>             <td>Least Squares</td>  <th>  F-statistic:       </th> <td>   3974.</td> \n",
       "</tr>\n",
       "<tr>\n",
       "  <th>Date:</th>             <td>Wed, 26 Oct 2022</td> <th>  Prob (F-statistic):</th>  <td>  0.00</td>  \n",
       "</tr>\n",
       "<tr>\n",
       "  <th>Time:</th>                 <td>16:33:18</td>     <th>  Log-Likelihood:    </th> <td> -7851.5</td> \n",
       "</tr>\n",
       "<tr>\n",
       "  <th>No. Observations:</th>      <td> 21597</td>      <th>  AIC:               </th> <td>1.572e+04</td>\n",
       "</tr>\n",
       "<tr>\n",
       "  <th>Df Residuals:</th>          <td> 21589</td>      <th>  BIC:               </th> <td>1.578e+04</td>\n",
       "</tr>\n",
       "<tr>\n",
       "  <th>Df Model:</th>              <td>     7</td>      <th>                     </th>     <td> </td>    \n",
       "</tr>\n",
       "<tr>\n",
       "  <th>Covariance Type:</th>      <td>nonrobust</td>    <th>                     </th>     <td> </td>    \n",
       "</tr>\n",
       "</table>\n",
       "<table class=\"simpletable\">\n",
       "<tr>\n",
       "          <td></td>            <th>coef</th>     <th>std err</th>      <th>t</th>      <th>P>|t|</th>  <th>[0.025</th>    <th>0.975]</th>  \n",
       "</tr>\n",
       "<tr>\n",
       "  <th>const</th>            <td>   12.9353</td> <td>    0.004</td> <td> 3403.537</td> <td> 0.000</td> <td>   12.928</td> <td>   12.943</td>\n",
       "</tr>\n",
       "<tr>\n",
       "  <th>ln_sqft_living</th>   <td>    0.3437</td> <td>    0.009</td> <td>   39.462</td> <td> 0.000</td> <td>    0.327</td> <td>    0.361</td>\n",
       "</tr>\n",
       "<tr>\n",
       "  <th>ln_sqft_living15</th> <td>    0.0965</td> <td>    0.005</td> <td>   17.964</td> <td> 0.000</td> <td>    0.086</td> <td>    0.107</td>\n",
       "</tr>\n",
       "<tr>\n",
       "  <th>ln_sqft_above</th>    <td>   -0.1849</td> <td>    0.008</td> <td>  -22.588</td> <td> 0.000</td> <td>   -0.201</td> <td>   -0.169</td>\n",
       "</tr>\n",
       "<tr>\n",
       "  <th>bathrooms</th>        <td>   -0.0081</td> <td>    0.004</td> <td>   -2.051</td> <td> 0.040</td> <td>   -0.016</td> <td>   -0.000</td>\n",
       "</tr>\n",
       "<tr>\n",
       "  <th>bedrooms</th>         <td>   -0.0226</td> <td>    0.003</td> <td>   -6.709</td> <td> 0.000</td> <td>   -0.029</td> <td>   -0.016</td>\n",
       "</tr>\n",
       "<tr>\n",
       "  <th>floors</th>           <td>    0.0421</td> <td>    0.006</td> <td>    7.088</td> <td> 0.000</td> <td>    0.030</td> <td>    0.054</td>\n",
       "</tr>\n",
       "<tr>\n",
       "  <th>grade_ord</th>        <td>    0.1988</td> <td>    0.003</td> <td>   57.556</td> <td> 0.000</td> <td>    0.192</td> <td>    0.206</td>\n",
       "</tr>\n",
       "</table>\n",
       "<table class=\"simpletable\">\n",
       "<tr>\n",
       "  <th>Omnibus:</th>       <td>86.227</td> <th>  Durbin-Watson:     </th> <td>   1.975</td>\n",
       "</tr>\n",
       "<tr>\n",
       "  <th>Prob(Omnibus):</th> <td> 0.000</td> <th>  Jarque-Bera (JB):  </th> <td>  87.192</td>\n",
       "</tr>\n",
       "<tr>\n",
       "  <th>Skew:</th>          <td> 0.155</td> <th>  Prob(JB):          </th> <td>1.17e-19</td>\n",
       "</tr>\n",
       "<tr>\n",
       "  <th>Kurtosis:</th>      <td> 2.966</td> <th>  Cond. No.          </th> <td>    9.09</td>\n",
       "</tr>\n",
       "</table><br/><br/>Notes:<br/>[1] Standard Errors assume that the covariance matrix of the errors is correctly specified."
      ],
      "text/plain": [
       "<class 'statsmodels.iolib.summary.Summary'>\n",
       "\"\"\"\n",
       "                            OLS Regression Results                            \n",
       "==============================================================================\n",
       "Dep. Variable:               ln_price   R-squared:                       0.563\n",
       "Model:                            OLS   Adj. R-squared:                  0.563\n",
       "Method:                 Least Squares   F-statistic:                     3974.\n",
       "Date:                Wed, 26 Oct 2022   Prob (F-statistic):               0.00\n",
       "Time:                        16:33:18   Log-Likelihood:                -7851.5\n",
       "No. Observations:               21597   AIC:                         1.572e+04\n",
       "Df Residuals:                   21589   BIC:                         1.578e+04\n",
       "Df Model:                           7                                         \n",
       "Covariance Type:            nonrobust                                         \n",
       "====================================================================================\n",
       "                       coef    std err          t      P>|t|      [0.025      0.975]\n",
       "------------------------------------------------------------------------------------\n",
       "const               12.9353      0.004   3403.537      0.000      12.928      12.943\n",
       "ln_sqft_living       0.3437      0.009     39.462      0.000       0.327       0.361\n",
       "ln_sqft_living15     0.0965      0.005     17.964      0.000       0.086       0.107\n",
       "ln_sqft_above       -0.1849      0.008    -22.588      0.000      -0.201      -0.169\n",
       "bathrooms           -0.0081      0.004     -2.051      0.040      -0.016      -0.000\n",
       "bedrooms            -0.0226      0.003     -6.709      0.000      -0.029      -0.016\n",
       "floors               0.0421      0.006      7.088      0.000       0.030       0.054\n",
       "grade_ord            0.1988      0.003     57.556      0.000       0.192       0.206\n",
       "==============================================================================\n",
       "Omnibus:                       86.227   Durbin-Watson:                   1.975\n",
       "Prob(Omnibus):                  0.000   Jarque-Bera (JB):               87.192\n",
       "Skew:                           0.155   Prob(JB):                     1.17e-19\n",
       "Kurtosis:                       2.966   Cond. No.                         9.09\n",
       "==============================================================================\n",
       "\n",
       "Notes:\n",
       "[1] Standard Errors assume that the covariance matrix of the errors is correctly specified.\n",
       "\"\"\""
      ]
     },
     "execution_count": 21,
     "metadata": {},
     "output_type": "execute_result"
    }
   ],
   "source": [
    "# run 11th model\n",
    "# add grade ordinal encoded\n",
    "current_model.drop(labels='cond_ord', axis=1, inplace=True)\n",
    "construct_model(current_model)"
   ]
  },
  {
   "cell_type": "markdown",
   "metadata": {},
   "source": [
    "# 13th Iteration"
   ]
  },
  {
   "cell_type": "code",
   "execution_count": 22,
   "metadata": {
    "scrolled": true
   },
   "outputs": [
    {
     "data": {
      "text/html": [
       "<table class=\"simpletable\">\n",
       "<caption>OLS Regression Results</caption>\n",
       "<tr>\n",
       "  <th>Dep. Variable:</th>        <td>ln_price</td>     <th>  R-squared:         </th> <td>   0.582</td> \n",
       "</tr>\n",
       "<tr>\n",
       "  <th>Model:</th>                   <td>OLS</td>       <th>  Adj. R-squared:    </th> <td>   0.582</td> \n",
       "</tr>\n",
       "<tr>\n",
       "  <th>Method:</th>             <td>Least Squares</td>  <th>  F-statistic:       </th> <td>   1502.</td> \n",
       "</tr>\n",
       "<tr>\n",
       "  <th>Date:</th>             <td>Wed, 26 Oct 2022</td> <th>  Prob (F-statistic):</th>  <td>  0.00</td>  \n",
       "</tr>\n",
       "<tr>\n",
       "  <th>Time:</th>                 <td>16:33:23</td>     <th>  Log-Likelihood:    </th> <td> -7374.7</td> \n",
       "</tr>\n",
       "<tr>\n",
       "  <th>No. Observations:</th>      <td> 21597</td>      <th>  AIC:               </th> <td>1.479e+04</td>\n",
       "</tr>\n",
       "<tr>\n",
       "  <th>Df Residuals:</th>          <td> 21576</td>      <th>  BIC:               </th> <td>1.496e+04</td>\n",
       "</tr>\n",
       "<tr>\n",
       "  <th>Df Model:</th>              <td>    20</td>      <th>                     </th>     <td> </td>    \n",
       "</tr>\n",
       "<tr>\n",
       "  <th>Covariance Type:</th>      <td>nonrobust</td>    <th>                     </th>     <td> </td>    \n",
       "</tr>\n",
       "</table>\n",
       "<table class=\"simpletable\">\n",
       "<tr>\n",
       "          <td></td>            <th>coef</th>     <th>std err</th>      <th>t</th>      <th>P>|t|</th>  <th>[0.025</th>    <th>0.975]</th>  \n",
       "</tr>\n",
       "<tr>\n",
       "  <th>const</th>            <td>   13.5321</td> <td>    0.012</td> <td> 1135.897</td> <td> 0.000</td> <td>   13.509</td> <td>   13.555</td>\n",
       "</tr>\n",
       "<tr>\n",
       "  <th>ln_sqft_living</th>   <td>    0.3293</td> <td>    0.009</td> <td>   38.111</td> <td> 0.000</td> <td>    0.312</td> <td>    0.346</td>\n",
       "</tr>\n",
       "<tr>\n",
       "  <th>ln_sqft_living15</th> <td>    0.0993</td> <td>    0.005</td> <td>   18.653</td> <td> 0.000</td> <td>    0.089</td> <td>    0.110</td>\n",
       "</tr>\n",
       "<tr>\n",
       "  <th>ln_sqft_above</th>    <td>   -0.1788</td> <td>    0.008</td> <td>  -22.062</td> <td> 0.000</td> <td>   -0.195</td> <td>   -0.163</td>\n",
       "</tr>\n",
       "<tr>\n",
       "  <th>bathrooms</th>        <td>   -0.0052</td> <td>    0.004</td> <td>   -1.327</td> <td> 0.185</td> <td>   -0.013</td> <td>    0.002</td>\n",
       "</tr>\n",
       "<tr>\n",
       "  <th>bedrooms</th>         <td>   -0.0238</td> <td>    0.003</td> <td>   -7.190</td> <td> 0.000</td> <td>   -0.030</td> <td>   -0.017</td>\n",
       "</tr>\n",
       "<tr>\n",
       "  <th>floors</th>           <td>    0.0740</td> <td>    0.006</td> <td>   12.293</td> <td> 0.000</td> <td>    0.062</td> <td>    0.086</td>\n",
       "</tr>\n",
       "<tr>\n",
       "  <th>x0_Fair</th>          <td>   -0.0993</td> <td>    0.027</td> <td>   -3.740</td> <td> 0.000</td> <td>   -0.151</td> <td>   -0.047</td>\n",
       "</tr>\n",
       "<tr>\n",
       "  <th>x0_Good</th>          <td>    0.0853</td> <td>    0.006</td> <td>   15.122</td> <td> 0.000</td> <td>    0.074</td> <td>    0.096</td>\n",
       "</tr>\n",
       "<tr>\n",
       "  <th>x0_Poor</th>          <td>   -0.0228</td> <td>    0.064</td> <td>   -0.358</td> <td> 0.720</td> <td>   -0.148</td> <td>    0.102</td>\n",
       "</tr>\n",
       "<tr>\n",
       "  <th>x0_Very Good</th>     <td>    0.2247</td> <td>    0.009</td> <td>   24.996</td> <td> 0.000</td> <td>    0.207</td> <td>    0.242</td>\n",
       "</tr>\n",
       "<tr>\n",
       "  <th>x0_11 Excellent</th>  <td>    0.2406</td> <td>    0.020</td> <td>   12.038</td> <td> 0.000</td> <td>    0.201</td> <td>    0.280</td>\n",
       "</tr>\n",
       "<tr>\n",
       "  <th>x0_12 Luxury</th>     <td>    0.5352</td> <td>    0.038</td> <td>   14.145</td> <td> 0.000</td> <td>    0.461</td> <td>    0.609</td>\n",
       "</tr>\n",
       "<tr>\n",
       "  <th>x0_13 Mansion</th>    <td>    0.9808</td> <td>    0.095</td> <td>   10.271</td> <td> 0.000</td> <td>    0.794</td> <td>    1.168</td>\n",
       "</tr>\n",
       "<tr>\n",
       "  <th>x0_3 Poor</th>        <td>   -0.8097</td> <td>    0.341</td> <td>   -2.373</td> <td> 0.018</td> <td>   -1.479</td> <td>   -0.141</td>\n",
       "</tr>\n",
       "<tr>\n",
       "  <th>x0_4 Low</th>         <td>   -0.9828</td> <td>    0.068</td> <td>  -14.438</td> <td> 0.000</td> <td>   -1.116</td> <td>   -0.849</td>\n",
       "</tr>\n",
       "<tr>\n",
       "  <th>x0_5 Fair</th>        <td>   -0.9333</td> <td>    0.027</td> <td>  -34.235</td> <td> 0.000</td> <td>   -0.987</td> <td>   -0.880</td>\n",
       "</tr>\n",
       "<tr>\n",
       "  <th>x0_6 Low Average</th> <td>   -0.7833</td> <td>    0.017</td> <td>  -46.396</td> <td> 0.000</td> <td>   -0.816</td> <td>   -0.750</td>\n",
       "</tr>\n",
       "<tr>\n",
       "  <th>x0_7 Average</th>     <td>   -0.6459</td> <td>    0.014</td> <td>  -47.821</td> <td> 0.000</td> <td>   -0.672</td> <td>   -0.619</td>\n",
       "</tr>\n",
       "<tr>\n",
       "  <th>x0_8 Good</th>        <td>   -0.4648</td> <td>    0.012</td> <td>  -38.202</td> <td> 0.000</td> <td>   -0.489</td> <td>   -0.441</td>\n",
       "</tr>\n",
       "<tr>\n",
       "  <th>x0_9 Better</th>      <td>   -0.2272</td> <td>    0.012</td> <td>  -18.456</td> <td> 0.000</td> <td>   -0.251</td> <td>   -0.203</td>\n",
       "</tr>\n",
       "</table>\n",
       "<table class=\"simpletable\">\n",
       "<tr>\n",
       "  <th>Omnibus:</th>       <td>68.736</td> <th>  Durbin-Watson:     </th> <td>   1.980</td>\n",
       "</tr>\n",
       "<tr>\n",
       "  <th>Prob(Omnibus):</th> <td> 0.000</td> <th>  Jarque-Bera (JB):  </th> <td>  69.357</td>\n",
       "</tr>\n",
       "<tr>\n",
       "  <th>Skew:</th>          <td> 0.139</td> <th>  Prob(JB):          </th> <td>8.70e-16</td>\n",
       "</tr>\n",
       "<tr>\n",
       "  <th>Kurtosis:</th>      <td> 2.991</td> <th>  Cond. No.          </th> <td>    236.</td>\n",
       "</tr>\n",
       "</table><br/><br/>Notes:<br/>[1] Standard Errors assume that the covariance matrix of the errors is correctly specified."
      ],
      "text/plain": [
       "<class 'statsmodels.iolib.summary.Summary'>\n",
       "\"\"\"\n",
       "                            OLS Regression Results                            \n",
       "==============================================================================\n",
       "Dep. Variable:               ln_price   R-squared:                       0.582\n",
       "Model:                            OLS   Adj. R-squared:                  0.582\n",
       "Method:                 Least Squares   F-statistic:                     1502.\n",
       "Date:                Wed, 26 Oct 2022   Prob (F-statistic):               0.00\n",
       "Time:                        16:33:23   Log-Likelihood:                -7374.7\n",
       "No. Observations:               21597   AIC:                         1.479e+04\n",
       "Df Residuals:                   21576   BIC:                         1.496e+04\n",
       "Df Model:                          20                                         \n",
       "Covariance Type:            nonrobust                                         \n",
       "====================================================================================\n",
       "                       coef    std err          t      P>|t|      [0.025      0.975]\n",
       "------------------------------------------------------------------------------------\n",
       "const               13.5321      0.012   1135.897      0.000      13.509      13.555\n",
       "ln_sqft_living       0.3293      0.009     38.111      0.000       0.312       0.346\n",
       "ln_sqft_living15     0.0993      0.005     18.653      0.000       0.089       0.110\n",
       "ln_sqft_above       -0.1788      0.008    -22.062      0.000      -0.195      -0.163\n",
       "bathrooms           -0.0052      0.004     -1.327      0.185      -0.013       0.002\n",
       "bedrooms            -0.0238      0.003     -7.190      0.000      -0.030      -0.017\n",
       "floors               0.0740      0.006     12.293      0.000       0.062       0.086\n",
       "x0_Fair             -0.0993      0.027     -3.740      0.000      -0.151      -0.047\n",
       "x0_Good              0.0853      0.006     15.122      0.000       0.074       0.096\n",
       "x0_Poor             -0.0228      0.064     -0.358      0.720      -0.148       0.102\n",
       "x0_Very Good         0.2247      0.009     24.996      0.000       0.207       0.242\n",
       "x0_11 Excellent      0.2406      0.020     12.038      0.000       0.201       0.280\n",
       "x0_12 Luxury         0.5352      0.038     14.145      0.000       0.461       0.609\n",
       "x0_13 Mansion        0.9808      0.095     10.271      0.000       0.794       1.168\n",
       "x0_3 Poor           -0.8097      0.341     -2.373      0.018      -1.479      -0.141\n",
       "x0_4 Low            -0.9828      0.068    -14.438      0.000      -1.116      -0.849\n",
       "x0_5 Fair           -0.9333      0.027    -34.235      0.000      -0.987      -0.880\n",
       "x0_6 Low Average    -0.7833      0.017    -46.396      0.000      -0.816      -0.750\n",
       "x0_7 Average        -0.6459      0.014    -47.821      0.000      -0.672      -0.619\n",
       "x0_8 Good           -0.4648      0.012    -38.202      0.000      -0.489      -0.441\n",
       "x0_9 Better         -0.2272      0.012    -18.456      0.000      -0.251      -0.203\n",
       "==============================================================================\n",
       "Omnibus:                       68.736   Durbin-Watson:                   1.980\n",
       "Prob(Omnibus):                  0.000   Jarque-Bera (JB):               69.357\n",
       "Skew:                           0.139   Prob(JB):                     8.70e-16\n",
       "Kurtosis:                       2.991   Cond. No.                         236.\n",
       "==============================================================================\n",
       "\n",
       "Notes:\n",
       "[1] Standard Errors assume that the covariance matrix of the errors is correctly specified.\n",
       "\"\"\""
      ]
     },
     "execution_count": 22,
     "metadata": {},
     "output_type": "execute_result"
    }
   ],
   "source": [
    "# run 13th model\n",
    "# add grade ordinal encoded\n",
    "current_model.drop(labels='grade_ord', axis=1, inplace=True)\n",
    "ohe_df = pd.concat([current_model, categorical_ohe], axis=1)\n",
    "construct_model(ohe_df)"
   ]
  },
  {
   "cell_type": "markdown",
   "metadata": {},
   "source": [
    "# 14th Iteration"
   ]
  },
  {
   "cell_type": "code",
   "execution_count": 23,
   "metadata": {
    "scrolled": true
   },
   "outputs": [
    {
     "data": {
      "text/html": [
       "<table class=\"simpletable\">\n",
       "<caption>OLS Regression Results</caption>\n",
       "<tr>\n",
       "  <th>Dep. Variable:</th>        <td>ln_price</td>     <th>  R-squared:         </th> <td>   0.567</td> \n",
       "</tr>\n",
       "<tr>\n",
       "  <th>Model:</th>                   <td>OLS</td>       <th>  Adj. R-squared:    </th> <td>   0.567</td> \n",
       "</tr>\n",
       "<tr>\n",
       "  <th>Method:</th>             <td>Least Squares</td>  <th>  F-statistic:       </th> <td>   1768.</td> \n",
       "</tr>\n",
       "<tr>\n",
       "  <th>Date:</th>             <td>Wed, 26 Oct 2022</td> <th>  Prob (F-statistic):</th>  <td>  0.00</td>  \n",
       "</tr>\n",
       "<tr>\n",
       "  <th>Time:</th>                 <td>16:45:46</td>     <th>  Log-Likelihood:    </th> <td> -7745.4</td> \n",
       "</tr>\n",
       "<tr>\n",
       "  <th>No. Observations:</th>      <td> 21597</td>      <th>  AIC:               </th> <td>1.552e+04</td>\n",
       "</tr>\n",
       "<tr>\n",
       "  <th>Df Residuals:</th>          <td> 21580</td>      <th>  BIC:               </th> <td>1.566e+04</td>\n",
       "</tr>\n",
       "<tr>\n",
       "  <th>Df Model:</th>              <td>    16</td>      <th>                     </th>     <td> </td>    \n",
       "</tr>\n",
       "<tr>\n",
       "  <th>Covariance Type:</th>      <td>nonrobust</td>    <th>                     </th>     <td> </td>    \n",
       "</tr>\n",
       "</table>\n",
       "<table class=\"simpletable\">\n",
       "<tr>\n",
       "          <td></td>            <th>coef</th>     <th>std err</th>      <th>t</th>      <th>P>|t|</th>  <th>[0.025</th>    <th>0.975]</th>  \n",
       "</tr>\n",
       "<tr>\n",
       "  <th>const</th>            <td>   13.5611</td> <td>    0.012</td> <td> 1125.553</td> <td> 0.000</td> <td>   13.537</td> <td>   13.585</td>\n",
       "</tr>\n",
       "<tr>\n",
       "  <th>ln_sqft_living</th>   <td>    0.3576</td> <td>    0.009</td> <td>   40.976</td> <td> 0.000</td> <td>    0.341</td> <td>    0.375</td>\n",
       "</tr>\n",
       "<tr>\n",
       "  <th>ln_sqft_living15</th> <td>    0.0940</td> <td>    0.005</td> <td>   17.387</td> <td> 0.000</td> <td>    0.083</td> <td>    0.105</td>\n",
       "</tr>\n",
       "<tr>\n",
       "  <th>ln_sqft_above</th>    <td>   -0.1983</td> <td>    0.008</td> <td>  -24.150</td> <td> 0.000</td> <td>   -0.214</td> <td>   -0.182</td>\n",
       "</tr>\n",
       "<tr>\n",
       "  <th>bathrooms</th>        <td>   -0.0093</td> <td>    0.004</td> <td>   -2.364</td> <td> 0.018</td> <td>   -0.017</td> <td>   -0.002</td>\n",
       "</tr>\n",
       "<tr>\n",
       "  <th>bedrooms</th>         <td>   -0.0199</td> <td>    0.003</td> <td>   -5.905</td> <td> 0.000</td> <td>   -0.026</td> <td>   -0.013</td>\n",
       "</tr>\n",
       "<tr>\n",
       "  <th>floors</th>           <td>    0.0526</td> <td>    0.006</td> <td>    8.727</td> <td> 0.000</td> <td>    0.041</td> <td>    0.064</td>\n",
       "</tr>\n",
       "<tr>\n",
       "  <th>x0_11 Excellent</th>  <td>    0.2372</td> <td>    0.020</td> <td>   11.669</td> <td> 0.000</td> <td>    0.197</td> <td>    0.277</td>\n",
       "</tr>\n",
       "<tr>\n",
       "  <th>x0_12 Luxury</th>     <td>    0.5324</td> <td>    0.038</td> <td>   13.833</td> <td> 0.000</td> <td>    0.457</td> <td>    0.608</td>\n",
       "</tr>\n",
       "<tr>\n",
       "  <th>x0_13 Mansion</th>    <td>    0.9687</td> <td>    0.097</td> <td>    9.972</td> <td> 0.000</td> <td>    0.778</td> <td>    1.159</td>\n",
       "</tr>\n",
       "<tr>\n",
       "  <th>x0_3 Poor</th>        <td>   -0.5998</td> <td>    0.347</td> <td>   -1.728</td> <td> 0.084</td> <td>   -1.280</td> <td>    0.080</td>\n",
       "</tr>\n",
       "<tr>\n",
       "  <th>x0_4 Low</th>         <td>   -0.9858</td> <td>    0.069</td> <td>  -14.269</td> <td> 0.000</td> <td>   -1.121</td> <td>   -0.850</td>\n",
       "</tr>\n",
       "<tr>\n",
       "  <th>x0_5 Fair</th>        <td>   -0.9067</td> <td>    0.028</td> <td>  -32.918</td> <td> 0.000</td> <td>   -0.961</td> <td>   -0.853</td>\n",
       "</tr>\n",
       "<tr>\n",
       "  <th>x0_6 Low Average</th> <td>   -0.7633</td> <td>    0.017</td> <td>  -44.545</td> <td> 0.000</td> <td>   -0.797</td> <td>   -0.730</td>\n",
       "</tr>\n",
       "<tr>\n",
       "  <th>x0_7 Average</th>     <td>   -0.6335</td> <td>    0.014</td> <td>  -46.149</td> <td> 0.000</td> <td>   -0.660</td> <td>   -0.607</td>\n",
       "</tr>\n",
       "<tr>\n",
       "  <th>x0_8 Good</th>        <td>   -0.4571</td> <td>    0.012</td> <td>  -36.958</td> <td> 0.000</td> <td>   -0.481</td> <td>   -0.433</td>\n",
       "</tr>\n",
       "<tr>\n",
       "  <th>x0_9 Better</th>      <td>   -0.2246</td> <td>    0.013</td> <td>  -17.936</td> <td> 0.000</td> <td>   -0.249</td> <td>   -0.200</td>\n",
       "</tr>\n",
       "</table>\n",
       "<table class=\"simpletable\">\n",
       "<tr>\n",
       "  <th>Omnibus:</th>       <td>70.877</td> <th>  Durbin-Watson:     </th> <td>   1.977</td>\n",
       "</tr>\n",
       "<tr>\n",
       "  <th>Prob(Omnibus):</th> <td> 0.000</td> <th>  Jarque-Bera (JB):  </th> <td>  71.307</td>\n",
       "</tr>\n",
       "<tr>\n",
       "  <th>Skew:</th>          <td> 0.137</td> <th>  Prob(JB):          </th> <td>3.28e-16</td>\n",
       "</tr>\n",
       "<tr>\n",
       "  <th>Kurtosis:</th>      <td> 2.936</td> <th>  Cond. No.          </th> <td>    236.</td>\n",
       "</tr>\n",
       "</table><br/><br/>Notes:<br/>[1] Standard Errors assume that the covariance matrix of the errors is correctly specified."
      ],
      "text/plain": [
       "<class 'statsmodels.iolib.summary.Summary'>\n",
       "\"\"\"\n",
       "                            OLS Regression Results                            \n",
       "==============================================================================\n",
       "Dep. Variable:               ln_price   R-squared:                       0.567\n",
       "Model:                            OLS   Adj. R-squared:                  0.567\n",
       "Method:                 Least Squares   F-statistic:                     1768.\n",
       "Date:                Wed, 26 Oct 2022   Prob (F-statistic):               0.00\n",
       "Time:                        16:45:46   Log-Likelihood:                -7745.4\n",
       "No. Observations:               21597   AIC:                         1.552e+04\n",
       "Df Residuals:                   21580   BIC:                         1.566e+04\n",
       "Df Model:                          16                                         \n",
       "Covariance Type:            nonrobust                                         \n",
       "====================================================================================\n",
       "                       coef    std err          t      P>|t|      [0.025      0.975]\n",
       "------------------------------------------------------------------------------------\n",
       "const               13.5611      0.012   1125.553      0.000      13.537      13.585\n",
       "ln_sqft_living       0.3576      0.009     40.976      0.000       0.341       0.375\n",
       "ln_sqft_living15     0.0940      0.005     17.387      0.000       0.083       0.105\n",
       "ln_sqft_above       -0.1983      0.008    -24.150      0.000      -0.214      -0.182\n",
       "bathrooms           -0.0093      0.004     -2.364      0.018      -0.017      -0.002\n",
       "bedrooms            -0.0199      0.003     -5.905      0.000      -0.026      -0.013\n",
       "floors               0.0526      0.006      8.727      0.000       0.041       0.064\n",
       "x0_11 Excellent      0.2372      0.020     11.669      0.000       0.197       0.277\n",
       "x0_12 Luxury         0.5324      0.038     13.833      0.000       0.457       0.608\n",
       "x0_13 Mansion        0.9687      0.097      9.972      0.000       0.778       1.159\n",
       "x0_3 Poor           -0.5998      0.347     -1.728      0.084      -1.280       0.080\n",
       "x0_4 Low            -0.9858      0.069    -14.269      0.000      -1.121      -0.850\n",
       "x0_5 Fair           -0.9067      0.028    -32.918      0.000      -0.961      -0.853\n",
       "x0_6 Low Average    -0.7633      0.017    -44.545      0.000      -0.797      -0.730\n",
       "x0_7 Average        -0.6335      0.014    -46.149      0.000      -0.660      -0.607\n",
       "x0_8 Good           -0.4571      0.012    -36.958      0.000      -0.481      -0.433\n",
       "x0_9 Better         -0.2246      0.013    -17.936      0.000      -0.249      -0.200\n",
       "==============================================================================\n",
       "Omnibus:                       70.877   Durbin-Watson:                   1.977\n",
       "Prob(Omnibus):                  0.000   Jarque-Bera (JB):               71.307\n",
       "Skew:                           0.137   Prob(JB):                     3.28e-16\n",
       "Kurtosis:                       2.936   Cond. No.                         236.\n",
       "==============================================================================\n",
       "\n",
       "Notes:\n",
       "[1] Standard Errors assume that the covariance matrix of the errors is correctly specified.\n",
       "\"\"\""
      ]
     },
     "execution_count": 23,
     "metadata": {},
     "output_type": "execute_result"
    }
   ],
   "source": [
    "# run 13th model\n",
    "# add grade ordinal encoded\n",
    "ohe_df.drop(labels=['x0_Fair', 'x0_Good', 'x0_Poor', 'x0_Very Good'], axis=1, inplace=True)\n",
    "construct_model(ohe_df)"
   ]
  },
  {
   "cell_type": "code",
   "execution_count": 24,
   "metadata": {},
   "outputs": [],
   "source": [
    "semi_final_df = pd.concat([target, numeric, categorical_ordinal], axis=1)"
   ]
  },
  {
   "cell_type": "code",
   "execution_count": 26,
   "metadata": {},
   "outputs": [],
   "source": [
    "semi_final_df.drop(labels=['sqft_lot', 'age', 'renovated', 'sqft_lot15'], axis=1, inplace=True)"
   ]
  },
  {
   "cell_type": "code",
   "execution_count": 32,
   "metadata": {
    "scrolled": false
   },
   "outputs": [
    {
     "data": {
      "image/png": "[encoded data removed]",
      "text/plain": [
       "<Figure size 432x288 with 1 Axes>"
      ]
     },
     "metadata": {
      "needs_background": "light"
     },
     "output_type": "display_data"
    },
    {
     "data": {
      "image/png": "[encoded data removed]",
      "text/plain": [
       "<Figure size 432x288 with 1 Axes>"
      ]
     },
     "metadata": {
      "needs_background": "light"
     },
     "output_type": "display_data"
    },
    {
     "data": {
      "image/png": "[encoded data removed]",
      "text/plain": [
       "<Figure size 432x288 with 1 Axes>"
      ]
     },
     "metadata": {
      "needs_background": "light"
     },
     "output_type": "display_data"
    },
    {
     "data": {
      "image/png": "[encoded data removed]",
      "text/plain": [
       "<Figure size 432x288 with 1 Axes>"
      ]
     },
     "metadata": {
      "needs_background": "light"
     },
     "output_type": "display_data"
    },
    {
     "data": {
      "image/png": "[encoded data removed]",
      "text/plain": [
       "<Figure size 432x288 with 1 Axes>"
      ]
     },
     "metadata": {
      "needs_background": "light"
     },
     "output_type": "display_data"
    },
    {
     "data": {
      "image/png": "[encoded data removed]",
      "text/plain": [
       "<Figure size 432x288 with 1 Axes>"
      ]
     },
     "metadata": {
      "needs_background": "light"
     },
     "output_type": "display_data"
    },
    {
     "data": {
      "image/png": "[encoded data removed]",
      "text/plain": [
       "<Figure size 432x288 with 1 Axes>"
      ]
     },
     "metadata": {
      "needs_background": "light"
     },
     "output_type": "display_data"
    },
    {
     "data": {
      "image/png": "[encoded data removed]",
      "text/plain": [
       "<Figure size 432x288 with 1 Axes>"
      ]
     },
     "metadata": {
      "needs_background": "light"
     },
     "output_type": "display_data"
    },
    {
     "data": {
      "image/png": "[encoded data removed]",
      "text/plain": [
       "<Figure size 432x288 with 1 Axes>"
      ]
     },
     "metadata": {
      "needs_background": "light"
     },
     "output_type": "display_data"
    },
    {
     "data": {
      "image/png": "[encoded data removed]",
      "text/plain": [
       "<Figure size 432x288 with 1 Axes>"
      ]
     },
     "metadata": {
      "needs_background": "light"
     },
     "output_type": "display_data"
    }
   ],
   "source": [
    "for e, f in enumerate(semi_final_df.columns):\n",
    "    plt.figure(e)\n",
    "    plt.title(f)\n",
    "    sm.qqplot(semi_final_df[f], line='r');"
   ]
  },
  {
   "cell_type": "markdown",
   "metadata": {},
   "source": [
    "# Additional feature cleaning"
   ]
  },
  {
   "cell_type": "code",
   "execution_count": null,
   "metadata": {},
   "outputs": [],
   "source": [
    "z = ord_model_scaled.columns\n",
    "for v in ord_model_scaled.columns:\n",
    "    plt.figure(v)\n",
    "    sns.scatterplot(y=target,x=ord_model_scaled[v])\n"
   ]
  },
  {
   "cell_type": "code",
   "execution_count": null,
   "metadata": {},
   "outputs": [],
   "source": []
  },
  {
   "cell_type": "code",
   "execution_count": null,
   "metadata": {},
   "outputs": [],
   "source": []
  },
  {
   "cell_type": "code",
   "execution_count": null,
   "metadata": {},
   "outputs": [],
   "source": []
  }
 ],
 "metadata": {
  "kernelspec": {
   "display_name": "Python (learn-env)",
   "language": "python",
   "name": "learn-env"
  },
  "language_info": {
   "codemirror_mode": {
    "name": "ipython",
    "version": 3
   },
   "file_extension": ".py",
   "mimetype": "text/x-python",
   "name": "python",
   "nbconvert_exporter": "python",
   "pygments_lexer": "ipython3",
   "version": "3.8.5"
  }
 },
 "nbformat": 4,
 "nbformat_minor": 4
}
