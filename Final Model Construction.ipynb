{
 "cells": [
  {
   "cell_type": "markdown",
   "metadata": {},
   "source": [
    "# Final Model Construction"
   ]
  },
  {
   "cell_type": "markdown",
   "metadata": {},
   "source": [
    "Below is the construction for a multiple linear regression model predicting housing prices in King County. Data is imported from the preprocessed data that was cleaned in preceding notebooks and saved as separate csv files. The data is imported to this notebook and combined for the first model. Further iterations are contained in additional subsections of this notebook."
   ]
  },
  {
   "cell_type": "markdown",
   "metadata": {},
   "source": [
    "### Import Packages"
   ]
  },
  {
   "cell_type": "code",
   "execution_count": 1,
   "metadata": {},
   "outputs": [],
   "source": [
    "import scipy.stats as stats\n",
    "import pandas as pd\n",
    "import statsmodels.api as sm\n",
    "import numpy as np\n",
    "import matplotlib.pyplot as plt\n",
    "import seaborn as sns\n",
    "from sklearn.model_selection import cross_val_score, train_test_split\n",
    "from sklearn.metrics import median_absolute_error, mean_squared_error \n",
    "from sklearn.preprocessing import StandardScaler, PolynomialFeatures\n",
    "from sklearn.linear_model import LinearRegression\n"
   ]
  },
  {
   "cell_type": "markdown",
   "metadata": {},
   "source": [
    "### Import and Combine Cleaned Data"
   ]
  },
  {
   "cell_type": "code",
   "execution_count": 2,
   "metadata": {},
   "outputs": [],
   "source": [
    "categorical_ohe = pd.read_csv(\"./data/cat_hot_dataframe\")\n",
    "categorical_ordinal = pd.read_csv(\"./data/cat_ordinal_dataframe\")\n",
    "numeric = pd.read_csv(\"./data/initial_numeric_inputs\")\n",
    "target = pd.read_csv(\"./data/house_price_target_natlog\")"
   ]
  },
  {
   "cell_type": "markdown",
   "metadata": {},
   "source": [
    "### Construct Model"
   ]
  },
  {
   "cell_type": "code",
   "execution_count": 3,
   "metadata": {},
   "outputs": [
    {
     "data": {
      "text/html": [
       "<table class=\"simpletable\">\n",
       "<caption>OLS Regression Results</caption>\n",
       "<tr>\n",
       "  <th>Dep. Variable:</th>        <td>ln_price</td>     <th>  R-squared:         </th> <td>   0.648</td> \n",
       "</tr>\n",
       "<tr>\n",
       "  <th>Model:</th>                   <td>OLS</td>       <th>  Adj. R-squared:    </th> <td>   0.648</td> \n",
       "</tr>\n",
       "<tr>\n",
       "  <th>Method:</th>             <td>Least Squares</td>  <th>  F-statistic:       </th> <td>   1655.</td> \n",
       "</tr>\n",
       "<tr>\n",
       "  <th>Date:</th>             <td>Tue, 25 Oct 2022</td> <th>  Prob (F-statistic):</th>  <td>  0.00</td>  \n",
       "</tr>\n",
       "<tr>\n",
       "  <th>Time:</th>                 <td>18:28:22</td>     <th>  Log-Likelihood:    </th> <td> -5517.1</td> \n",
       "</tr>\n",
       "<tr>\n",
       "  <th>No. Observations:</th>      <td> 21597</td>      <th>  AIC:               </th> <td>1.108e+04</td>\n",
       "</tr>\n",
       "<tr>\n",
       "  <th>Df Residuals:</th>          <td> 21572</td>      <th>  BIC:               </th> <td>1.128e+04</td>\n",
       "</tr>\n",
       "<tr>\n",
       "  <th>Df Model:</th>              <td>    24</td>      <th>                     </th>     <td> </td>    \n",
       "</tr>\n",
       "<tr>\n",
       "  <th>Covariance Type:</th>      <td>nonrobust</td>    <th>                     </th>     <td> </td>    \n",
       "</tr>\n",
       "</table>\n",
       "<table class=\"simpletable\">\n",
       "<tr>\n",
       "          <td></td>            <th>coef</th>     <th>std err</th>      <th>t</th>      <th>P>|t|</th>  <th>[0.025</th>    <th>0.975]</th>  \n",
       "</tr>\n",
       "<tr>\n",
       "  <th>const</th>            <td>    9.3377</td> <td>    0.090</td> <td>  103.931</td> <td> 0.000</td> <td>    9.162</td> <td>    9.514</td>\n",
       "</tr>\n",
       "<tr>\n",
       "  <th>bedrooms</th>         <td>   -0.0374</td> <td>    0.003</td> <td>  -12.215</td> <td> 0.000</td> <td>   -0.043</td> <td>   -0.031</td>\n",
       "</tr>\n",
       "<tr>\n",
       "  <th>bathrooms</th>        <td>    0.0871</td> <td>    0.005</td> <td>   17.387</td> <td> 0.000</td> <td>    0.077</td> <td>    0.097</td>\n",
       "</tr>\n",
       "<tr>\n",
       "  <th>ln_sqft_living</th>   <td>    0.4146</td> <td>    0.014</td> <td>   29.751</td> <td> 0.000</td> <td>    0.387</td> <td>    0.442</td>\n",
       "</tr>\n",
       "<tr>\n",
       "  <th>sqft_lot</th>         <td> 2.654e-07</td> <td> 7.41e-08</td> <td>    3.581</td> <td> 0.000</td> <td>  1.2e-07</td> <td> 4.11e-07</td>\n",
       "</tr>\n",
       "<tr>\n",
       "  <th>floors</th>           <td>    0.1163</td> <td>    0.006</td> <td>   20.768</td> <td> 0.000</td> <td>    0.105</td> <td>    0.127</td>\n",
       "</tr>\n",
       "<tr>\n",
       "  <th>ln_sqft_above</th>    <td>   -0.1776</td> <td>    0.012</td> <td>  -14.554</td> <td> 0.000</td> <td>   -0.202</td> <td>   -0.154</td>\n",
       "</tr>\n",
       "<tr>\n",
       "  <th>age</th>              <td>    0.0062</td> <td>  9.9e-05</td> <td>   62.310</td> <td> 0.000</td> <td>    0.006</td> <td>    0.006</td>\n",
       "</tr>\n",
       "<tr>\n",
       "  <th>renovated</th>        <td>    0.0115</td> <td>    0.005</td> <td>    2.192</td> <td> 0.028</td> <td>    0.001</td> <td>    0.022</td>\n",
       "</tr>\n",
       "<tr>\n",
       "  <th>ln_sqft_living15</th> <td>    0.2520</td> <td>    0.011</td> <td>   23.643</td> <td> 0.000</td> <td>    0.231</td> <td>    0.273</td>\n",
       "</tr>\n",
       "<tr>\n",
       "  <th>sqft_lot15</th>       <td> -4.45e-07</td> <td> 1.13e-07</td> <td>   -3.926</td> <td> 0.000</td> <td>-6.67e-07</td> <td>-2.23e-07</td>\n",
       "</tr>\n",
       "<tr>\n",
       "  <th>x0_Fair</th>          <td>   -0.1658</td> <td>    0.024</td> <td>   -6.792</td> <td> 0.000</td> <td>   -0.214</td> <td>   -0.118</td>\n",
       "</tr>\n",
       "<tr>\n",
       "  <th>x0_Good</th>          <td>    0.0176</td> <td>    0.005</td> <td>    3.328</td> <td> 0.001</td> <td>    0.007</td> <td>    0.028</td>\n",
       "</tr>\n",
       "<tr>\n",
       "  <th>x0_Poor</th>          <td>   -0.1696</td> <td>    0.059</td> <td>   -2.892</td> <td> 0.004</td> <td>   -0.284</td> <td>   -0.055</td>\n",
       "</tr>\n",
       "<tr>\n",
       "  <th>x0_Very Good</th>     <td>    0.0856</td> <td>    0.009</td> <td>   10.005</td> <td> 0.000</td> <td>    0.069</td> <td>    0.102</td>\n",
       "</tr>\n",
       "<tr>\n",
       "  <th>x0_11 Excellent</th>  <td>    0.2126</td> <td>    0.018</td> <td>   11.589</td> <td> 0.000</td> <td>    0.177</td> <td>    0.249</td>\n",
       "</tr>\n",
       "<tr>\n",
       "  <th>x0_12 Luxury</th>     <td>    0.4726</td> <td>    0.035</td> <td>   13.600</td> <td> 0.000</td> <td>    0.404</td> <td>    0.541</td>\n",
       "</tr>\n",
       "<tr>\n",
       "  <th>x0_13 Mansion</th>    <td>    0.7404</td> <td>    0.088</td> <td>    8.441</td> <td> 0.000</td> <td>    0.568</td> <td>    0.912</td>\n",
       "</tr>\n",
       "<tr>\n",
       "  <th>x0_3 Poor</th>        <td>   -0.9715</td> <td>    0.313</td> <td>   -3.102</td> <td> 0.002</td> <td>   -1.585</td> <td>   -0.358</td>\n",
       "</tr>\n",
       "<tr>\n",
       "  <th>x0_4 Low</th>         <td>   -1.1469</td> <td>    0.063</td> <td>  -18.342</td> <td> 0.000</td> <td>   -1.269</td> <td>   -1.024</td>\n",
       "</tr>\n",
       "<tr>\n",
       "  <th>x0_5 Fair</th>        <td>   -1.0797</td> <td>    0.025</td> <td>  -42.922</td> <td> 0.000</td> <td>   -1.129</td> <td>   -1.030</td>\n",
       "</tr>\n",
       "<tr>\n",
       "  <th>x0_6 Low Average</th> <td>   -0.8892</td> <td>    0.016</td> <td>  -57.003</td> <td> 0.000</td> <td>   -0.920</td> <td>   -0.859</td>\n",
       "</tr>\n",
       "<tr>\n",
       "  <th>x0_7 Average</th>     <td>   -0.6667</td> <td>    0.012</td> <td>  -53.750</td> <td> 0.000</td> <td>   -0.691</td> <td>   -0.642</td>\n",
       "</tr>\n",
       "<tr>\n",
       "  <th>x0_8 Good</th>        <td>   -0.4518</td> <td>    0.011</td> <td>  -40.450</td> <td> 0.000</td> <td>   -0.474</td> <td>   -0.430</td>\n",
       "</tr>\n",
       "<tr>\n",
       "  <th>x0_9 Better</th>      <td>   -0.2041</td> <td>    0.011</td> <td>  -18.049</td> <td> 0.000</td> <td>   -0.226</td> <td>   -0.182</td>\n",
       "</tr>\n",
       "</table>\n",
       "<table class=\"simpletable\">\n",
       "<tr>\n",
       "  <th>Omnibus:</th>       <td>58.161</td> <th>  Durbin-Watson:     </th> <td>   1.964</td>\n",
       "</tr>\n",
       "<tr>\n",
       "  <th>Prob(Omnibus):</th> <td> 0.000</td> <th>  Jarque-Bera (JB):  </th> <td>  75.080</td>\n",
       "</tr>\n",
       "<tr>\n",
       "  <th>Skew:</th>          <td>-0.008</td> <th>  Prob(JB):          </th> <td>4.97e-17</td>\n",
       "</tr>\n",
       "<tr>\n",
       "  <th>Kurtosis:</th>      <td> 3.288</td> <th>  Cond. No.          </th> <td>7.44e+06</td>\n",
       "</tr>\n",
       "</table><br/><br/>Notes:<br/>[1] Standard Errors assume that the covariance matrix of the errors is correctly specified.<br/>[2] The condition number is large, 7.44e+06. This might indicate that there are<br/>strong multicollinearity or other numerical problems."
      ],
      "text/plain": [
       "<class 'statsmodels.iolib.summary.Summary'>\n",
       "\"\"\"\n",
       "                            OLS Regression Results                            \n",
       "==============================================================================\n",
       "Dep. Variable:               ln_price   R-squared:                       0.648\n",
       "Model:                            OLS   Adj. R-squared:                  0.648\n",
       "Method:                 Least Squares   F-statistic:                     1655.\n",
       "Date:                Tue, 25 Oct 2022   Prob (F-statistic):               0.00\n",
       "Time:                        18:28:22   Log-Likelihood:                -5517.1\n",
       "No. Observations:               21597   AIC:                         1.108e+04\n",
       "Df Residuals:                   21572   BIC:                         1.128e+04\n",
       "Df Model:                          24                                         \n",
       "Covariance Type:            nonrobust                                         \n",
       "====================================================================================\n",
       "                       coef    std err          t      P>|t|      [0.025      0.975]\n",
       "------------------------------------------------------------------------------------\n",
       "const                9.3377      0.090    103.931      0.000       9.162       9.514\n",
       "bedrooms            -0.0374      0.003    -12.215      0.000      -0.043      -0.031\n",
       "bathrooms            0.0871      0.005     17.387      0.000       0.077       0.097\n",
       "ln_sqft_living       0.4146      0.014     29.751      0.000       0.387       0.442\n",
       "sqft_lot          2.654e-07   7.41e-08      3.581      0.000     1.2e-07    4.11e-07\n",
       "floors               0.1163      0.006     20.768      0.000       0.105       0.127\n",
       "ln_sqft_above       -0.1776      0.012    -14.554      0.000      -0.202      -0.154\n",
       "age                  0.0062    9.9e-05     62.310      0.000       0.006       0.006\n",
       "renovated            0.0115      0.005      2.192      0.028       0.001       0.022\n",
       "ln_sqft_living15     0.2520      0.011     23.643      0.000       0.231       0.273\n",
       "sqft_lot15        -4.45e-07   1.13e-07     -3.926      0.000   -6.67e-07   -2.23e-07\n",
       "x0_Fair             -0.1658      0.024     -6.792      0.000      -0.214      -0.118\n",
       "x0_Good              0.0176      0.005      3.328      0.001       0.007       0.028\n",
       "x0_Poor             -0.1696      0.059     -2.892      0.004      -0.284      -0.055\n",
       "x0_Very Good         0.0856      0.009     10.005      0.000       0.069       0.102\n",
       "x0_11 Excellent      0.2126      0.018     11.589      0.000       0.177       0.249\n",
       "x0_12 Luxury         0.4726      0.035     13.600      0.000       0.404       0.541\n",
       "x0_13 Mansion        0.7404      0.088      8.441      0.000       0.568       0.912\n",
       "x0_3 Poor           -0.9715      0.313     -3.102      0.002      -1.585      -0.358\n",
       "x0_4 Low            -1.1469      0.063    -18.342      0.000      -1.269      -1.024\n",
       "x0_5 Fair           -1.0797      0.025    -42.922      0.000      -1.129      -1.030\n",
       "x0_6 Low Average    -0.8892      0.016    -57.003      0.000      -0.920      -0.859\n",
       "x0_7 Average        -0.6667      0.012    -53.750      0.000      -0.691      -0.642\n",
       "x0_8 Good           -0.4518      0.011    -40.450      0.000      -0.474      -0.430\n",
       "x0_9 Better         -0.2041      0.011    -18.049      0.000      -0.226      -0.182\n",
       "==============================================================================\n",
       "Omnibus:                       58.161   Durbin-Watson:                   1.964\n",
       "Prob(Omnibus):                  0.000   Jarque-Bera (JB):               75.080\n",
       "Skew:                          -0.008   Prob(JB):                     4.97e-17\n",
       "Kurtosis:                       3.288   Cond. No.                     7.44e+06\n",
       "==============================================================================\n",
       "\n",
       "Notes:\n",
       "[1] Standard Errors assume that the covariance matrix of the errors is correctly specified.\n",
       "[2] The condition number is large, 7.44e+06. This might indicate that there are\n",
       "strong multicollinearity or other numerical problems.\n",
       "\"\"\""
      ]
     },
     "execution_count": 3,
     "metadata": {},
     "output_type": "execute_result"
    }
   ],
   "source": [
    "all_predictors = pd.concat([numeric, categorical_ohe], axis=1)\n",
    "exog = sm.add_constant(all_predictors)\n",
    "endog = target\n",
    "\n",
    "first_model = sm.OLS(endog, exog).fit().summary()\n",
    "first_model"
   ]
  },
  {
   "cell_type": "markdown",
   "metadata": {},
   "source": [
    "### Evaluate Model Performance"
   ]
  },
  {
   "cell_type": "markdown",
   "metadata": {},
   "source": [
    " (JB):score is fairly low, some of our data skew may be impacting our results\n",
    " also Cond. No.\t7.44e+06 is very large, indicating significant multicollinearity  \n",
    " our Rsqr at .648 is decent but will continue to improve it.\n"
   ]
  },
  {
   "cell_type": "markdown",
   "metadata": {},
   "source": [
    "### Assess Potential Model Improvements"
   ]
  },
  {
   "cell_type": "markdown",
   "metadata": {},
   "source": [
    "(1)We're going to scale our features, so they have equal impact on their outcome\n",
    "(2)Assess feature for collinearity and remove as needed\n"
   ]
  },
  {
   "cell_type": "markdown",
   "metadata": {},
   "source": [
    "# 2nd Model"
   ]
  },
  {
   "cell_type": "code",
   "execution_count": 4,
   "metadata": {},
   "outputs": [],
   "source": [
    "ss = StandardScaler()\n",
    "ss.fit(numeric)\n",
    "num_scaled = ss.transform(numeric)"
   ]
  },
  {
   "cell_type": "code",
   "execution_count": null,
   "metadata": {},
   "outputs": [],
   "source": []
  },
  {
   "cell_type": "code",
   "execution_count": null,
   "metadata": {},
   "outputs": [],
   "source": []
  },
  {
   "cell_type": "code",
   "execution_count": null,
   "metadata": {},
   "outputs": [],
   "source": []
  },
  {
   "cell_type": "code",
   "execution_count": null,
   "metadata": {},
   "outputs": [],
   "source": []
  }
 ],
 "metadata": {
  "kernelspec": {
   "display_name": "Python (learn-env)",
   "language": "python",
   "name": "learn-env"
  },
  "language_info": {
   "codemirror_mode": {
    "name": "ipython",
    "version": 3
   },
   "file_extension": ".py",
   "mimetype": "text/x-python",
   "name": "python",
   "nbconvert_exporter": "python",
   "pygments_lexer": "ipython3",
   "version": "3.8.5"
  }
 },
 "nbformat": 4,
 "nbformat_minor": 4
}
